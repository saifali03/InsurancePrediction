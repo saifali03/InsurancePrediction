{
  "cells": [
    {
      "cell_type": "markdown",
      "metadata": {},
      "source": [
        "# Using Machine Learning Models to Predict Stock Returns for Apple\n"
      ]
    },
    {
      "cell_type": "markdown",
      "metadata": {},
      "source": [
        "In this project, we will use various Machine Learning models, including Linear Regression, Logistic Regression, Support Vector Machines, ARIMA, and LSTM, to predict whether the stock return of a company will increase or decrease. Our predictions will be based on historical quarterly stock data, the company's fundamental financials, and U.S. economic indicators. We will use quarterly data from 2014 until the end of 2023.\n",
        "\n",
        "Our approach distinguishes itself from generic methods found online by not focusing on predicting prices or returns for profit. *Instead, we aim to be risk-averse and use ML models to predict whether the return will be positive or negative in the next quarter. Our goal is to invest only if the return is predicted to be positive. This strategy serves as a hedge against inflation, ensuring that we invest in opportunities with positive returns rather than losing money to inflation.*\n",
        "\n",
        "---\n",
        "\n",
        "* __Use of Linear Regression:__\n",
        "\n",
        "> We will learn the model parameters using the training data and then use the model to predict the relative stock return of the company for the next quarter lying in the test data. We will then compare the predicted stock return with the actual stock return to evaluate the model's performance. We will do this iteratively for all the the quarters in the test data to get a sense of the model's performance. Also, If the model's prediction for the relative return is positive and also the actual return is positive, then we will consider the model to be successful (1) - otherwise unsuccessful(0) - and caluclate the accuracy of the model. Apart from Accuracy, we will also calculate the usual evaluation metrics for linear regression models, like Mean Squared Error, Mean Absolute Error, and R^2 Score.\n",
        "\n",
        "---\n",
        "\n",
        "* __Use of Logistic Regression:__\n",
        "> We will learn the model parameters using the training data and then use the model to predict whether the relative stock return of the company will increase or decrease for the next quarter lying in the test data. We will then compare the predicted stock return with the actual stock return to evaluate the model's performance. We will do this iteratively for all the the quarters in the test data to get a sense of the model's performance. If the model's prediction for the stock return is correct, then we will consider the model to be successful (1) and caluclate the accuracy of the model. If the model's prediction for the stock return is incorrect, then we will consider the model to be unsuccessful (0). Apart from Accuracy, we will also calculate the usual evaluation metrics for logistic regression models, like Confusion Matrix, Precision, Recall, F1 Score, and ROC-AUC Score.\n",
        "\n",
        "---\n",
        "\n",
        "*__Use of LSTM:__*\n",
        "> We will learn the model parameters using the training data and then use the model to predict whether the relative stock return of the company will increase or decrease for the next quarter lying in the test data. We will then compare the predicted stock return with the actual stock return to evaluate the model's performance. We will do this iteratively for all the the quarters in the test data to get a sense of the model's performance. If the model's prediction for the stock return is correct, then we will consider the model to be successful (1) and caluclate the accuracy of the model. If the model's prediction for the stock return is incorrect, then we will consider the model to be unsuccessful (0). Apart from Accuracy, we will also calculate the usual evaluation metrics for LSTM models, like Confusion Matrix, Precision, Recall, F1 Score, and ROC-AUC Score.\n",
        "\n",
        "---\n",
        "*__Use of ARIMA Model:__*\n",
        "> Arima Model works by fitting a line to the data and then using the line to make predictions. It is a time series model that is used to predict future values based on the historical data. We will use the ARIMA model to predict the stock return of the company for the next quarter lying in the test data. We will then compare the predicted stock return with the actual stock return to evaluate the model's performance. We will do this iteratively for all the the quarters in the test data to get a sense of the model's performance. We will also calculate the usual evaluation metrics for ARIMA models, like Mean Squared Error, Mean Absolute Error, and R^2 Score.\n"
      ]
    },
    {
      "cell_type": "markdown",
      "metadata": {},
      "source": [
        "---\n",
        "\n",
        "For this project we will use __Yahoo Finance__ and __Alpha Vantage__ to gather the relevant data. We need the following data for each stock:\n",
        "* The latest stock `closing` price for every *quarter*.\n",
        "* The Average Volume of stocks traded every *quarter*.\n",
        "* Quarterly `Dividends` paid by the company.\n",
        "* Quarterly Reported Earnings Per Share `reportedEPS`.\n",
        "* Quarterly `Total Revenue`.+\n",
        "* Quarterly `Net Income`.\n",
        "* Quarterly `GDP` of the US economy.\n",
        "* Quarterly `Federal Funds Rate` set by the Federal Reserve Bank of the US.\n",
        "* Quarterly `Consumer Price Index` (CPI) of the US economy.\n",
        "\n",
        "Our choice of these features is based on the prevalent and obvious theory that the stock market is influenced by not only the historical stock prices and fundamental company financials, but also the overall economy. The GDP, Federal Funds Rate, and CPI are indicators of the overall health of the economy. The stock price, dividends, and earnings per share are indicators of the confidence of investors in the value generated by the company. The volume of stocks traded is an indicator of the interest of investors in the stock. The net income and total revenue are indicators of the financial health of the company.\n",
        "\n",
        "Lets begin by loading the relevant libraries and gathering the data.\n",
        "\n",
        "---"
      ]
    },
    {
      "cell_type": "code",
      "execution_count": 1,
      "metadata": {},
      "outputs": [
        {
          "name": "stderr",
          "output_type": "stream",
          "text": [
            "[*********************100%***********************]  1 of 1 completed\n"
          ]
        }
      ],
      "source": [
        "import yfinance as yf # Yahoo Finance for historical stock data and dividends data\n",
        "import requests\n",
        "import csv\n",
        "import pandas as pd\n",
        "import json\n",
        "\n",
        "ticker = \"AAPL\" # Apple Inc. stock ticker\n",
        "# Start date and end date for historical stock data. We want the data to range from start of 2014 to end of 2023.\n",
        "start_date = \"2013-06-30\"\n",
        "end_date = \"2024-03-31\"\n",
        "# This choice of range ensure that we have the desired range of data for the model because we will eventually delete some rows due to computations.\n",
        "data = yf.download(ticker, start = start_date, end = end_date)"
      ]
    },
    {
      "cell_type": "code",
      "execution_count": 2,
      "metadata": {},
      "outputs": [
        {
          "name": "stderr",
          "output_type": "stream",
          "text": [
            "/var/folders/zh/2l0pp8jn6kd80mywh4f4vlmr0000gn/T/ipykernel_59892/3174782801.py:2: FutureWarning: 'Q' is deprecated and will be removed in a future version, please use 'QE' instead.\n",
            "  close = data[\"Close\"].resample(\"Q\").last()\n"
          ]
        },
        {
          "data": {
            "text/html": [
              "<div>\n",
              "<style scoped>\n",
              "    .dataframe tbody tr th:only-of-type {\n",
              "        vertical-align: middle;\n",
              "    }\n",
              "\n",
              "    .dataframe tbody tr th {\n",
              "        vertical-align: top;\n",
              "    }\n",
              "\n",
              "    .dataframe thead th {\n",
              "        text-align: right;\n",
              "    }\n",
              "</style>\n",
              "<table border=\"1\" class=\"dataframe\">\n",
              "  <thead>\n",
              "    <tr style=\"text-align: right;\">\n",
              "      <th>Ticker</th>\n",
              "      <th>Close</th>\n",
              "    </tr>\n",
              "    <tr>\n",
              "      <th>Quarter</th>\n",
              "      <th></th>\n",
              "    </tr>\n",
              "  </thead>\n",
              "  <tbody>\n",
              "    <tr>\n",
              "      <th>2013-09-30</th>\n",
              "      <td>17.026787</td>\n",
              "    </tr>\n",
              "    <tr>\n",
              "      <th>2013-12-31</th>\n",
              "      <td>20.036428</td>\n",
              "    </tr>\n",
              "    <tr>\n",
              "      <th>2014-03-31</th>\n",
              "      <td>19.169287</td>\n",
              "    </tr>\n",
              "    <tr>\n",
              "      <th>2014-06-30</th>\n",
              "      <td>23.232500</td>\n",
              "    </tr>\n",
              "    <tr>\n",
              "      <th>2014-09-30</th>\n",
              "      <td>25.187500</td>\n",
              "    </tr>\n",
              "  </tbody>\n",
              "</table>\n",
              "</div>"
            ],
            "text/plain": [
              "Ticker          Close\n",
              "Quarter              \n",
              "2013-09-30  17.026787\n",
              "2013-12-31  20.036428\n",
              "2014-03-31  19.169287\n",
              "2014-06-30  23.232500\n",
              "2014-09-30  25.187500"
            ]
          },
          "execution_count": 2,
          "metadata": {},
          "output_type": "execute_result"
        }
      ],
      "source": [
        "# Selecting the Close column and resampling the data to quarterly frequency and selecting the last (latest) value of each quarter.\n",
        "close = data[\"Close\"].resample(\"Q\").last()\n",
        "# Setting the index to the quarter, defining the desired date format, and then renaming the column \"AAPL\" to \"Close\". \n",
        "close.set_index(close.index.strftime(\"%Y-%m-%d\"), inplace = True) \n",
        "close.index.name = \"Quarter\"\n",
        "close.rename(columns = {\"AAPL\": \"Close\"}, inplace = True)\n",
        "close.head()"
      ]
    },
    {
      "cell_type": "code",
      "execution_count": 3,
      "metadata": {},
      "outputs": [
        {
          "name": "stdout",
          "output_type": "stream",
          "text": [
            "Shape of the dataframe: (43, 1)\n"
          ]
        }
      ],
      "source": [
        "print(f\"Shape of the dataframe: {close.shape}\")"
      ]
    },
    {
      "cell_type": "code",
      "execution_count": 4,
      "metadata": {},
      "outputs": [
        {
          "name": "stderr",
          "output_type": "stream",
          "text": [
            "/var/folders/zh/2l0pp8jn6kd80mywh4f4vlmr0000gn/T/ipykernel_59892/3639102124.py:2: FutureWarning: 'Q' is deprecated and will be removed in a future version, please use 'QE' instead.\n",
            "  avg_vol = data[\"Volume\"].resample(\"Q\").mean()\n"
          ]
        },
        {
          "data": {
            "text/html": [
              "<div>\n",
              "<style scoped>\n",
              "    .dataframe tbody tr th:only-of-type {\n",
              "        vertical-align: middle;\n",
              "    }\n",
              "\n",
              "    .dataframe tbody tr th {\n",
              "        vertical-align: top;\n",
              "    }\n",
              "\n",
              "    .dataframe thead th {\n",
              "        text-align: right;\n",
              "    }\n",
              "</style>\n",
              "<table border=\"1\" class=\"dataframe\">\n",
              "  <thead>\n",
              "    <tr style=\"text-align: right;\">\n",
              "      <th>Ticker</th>\n",
              "      <th>Volume</th>\n",
              "    </tr>\n",
              "    <tr>\n",
              "      <th>Quarter</th>\n",
              "      <th></th>\n",
              "    </tr>\n",
              "  </thead>\n",
              "  <tbody>\n",
              "    <tr>\n",
              "      <th>2013-09-30</th>\n",
              "      <td>3.629280e+08</td>\n",
              "    </tr>\n",
              "    <tr>\n",
              "      <th>2013-12-31</th>\n",
              "      <td>3.143794e+08</td>\n",
              "    </tr>\n",
              "    <tr>\n",
              "      <th>2014-03-31</th>\n",
              "      <td>3.220987e+08</td>\n",
              "    </tr>\n",
              "    <tr>\n",
              "      <th>2014-06-30</th>\n",
              "      <td>2.698170e+08</td>\n",
              "    </tr>\n",
              "    <tr>\n",
              "      <th>2014-09-30</th>\n",
              "      <td>2.186614e+08</td>\n",
              "    </tr>\n",
              "  </tbody>\n",
              "</table>\n",
              "</div>"
            ],
            "text/plain": [
              "Ticker            Volume\n",
              "Quarter                 \n",
              "2013-09-30  3.629280e+08\n",
              "2013-12-31  3.143794e+08\n",
              "2014-03-31  3.220987e+08\n",
              "2014-06-30  2.698170e+08\n",
              "2014-09-30  2.186614e+08"
            ]
          },
          "execution_count": 4,
          "metadata": {},
          "output_type": "execute_result"
        }
      ],
      "source": [
        "# Repeating similar operations for the Volume column.\n",
        "avg_vol = data[\"Volume\"].resample(\"Q\").mean()\n",
        "avg_vol.set_index(avg_vol.index.strftime(\"%Y-%m-%d\"), inplace = True)\n",
        "avg_vol.index.name = \"Quarter\"\n",
        "avg_vol.rename(columns = {\"AAPL\": \"Volume\"}, inplace = True)\n",
        "avg_vol.head()"
      ]
    },
    {
      "cell_type": "code",
      "execution_count": 5,
      "metadata": {},
      "outputs": [
        {
          "name": "stdout",
          "output_type": "stream",
          "text": [
            "Shape of the dataframe: (43, 1)\n"
          ]
        }
      ],
      "source": [
        "print(f\"Shape of the dataframe: {avg_vol.shape}\")"
      ]
    },
    {
      "cell_type": "code",
      "execution_count": 6,
      "metadata": {},
      "outputs": [
        {
          "data": {
            "text/html": [
              "<div>\n",
              "<style scoped>\n",
              "    .dataframe tbody tr th:only-of-type {\n",
              "        vertical-align: middle;\n",
              "    }\n",
              "\n",
              "    .dataframe tbody tr th {\n",
              "        vertical-align: top;\n",
              "    }\n",
              "\n",
              "    .dataframe thead th {\n",
              "        text-align: right;\n",
              "    }\n",
              "</style>\n",
              "<table border=\"1\" class=\"dataframe\">\n",
              "  <thead>\n",
              "    <tr style=\"text-align: right;\">\n",
              "      <th>Ticker</th>\n",
              "      <th>Close</th>\n",
              "      <th>Volume</th>\n",
              "    </tr>\n",
              "    <tr>\n",
              "      <th>Quarter</th>\n",
              "      <th></th>\n",
              "      <th></th>\n",
              "    </tr>\n",
              "  </thead>\n",
              "  <tbody>\n",
              "    <tr>\n",
              "      <th>2013-09-30</th>\n",
              "      <td>17.026787</td>\n",
              "      <td>3.629280e+08</td>\n",
              "    </tr>\n",
              "    <tr>\n",
              "      <th>2013-12-31</th>\n",
              "      <td>20.036428</td>\n",
              "      <td>3.143794e+08</td>\n",
              "    </tr>\n",
              "    <tr>\n",
              "      <th>2014-03-31</th>\n",
              "      <td>19.169287</td>\n",
              "      <td>3.220987e+08</td>\n",
              "    </tr>\n",
              "  </tbody>\n",
              "</table>\n",
              "</div>"
            ],
            "text/plain": [
              "Ticker          Close        Volume\n",
              "Quarter                            \n",
              "2013-09-30  17.026787  3.629280e+08\n",
              "2013-12-31  20.036428  3.143794e+08\n",
              "2014-03-31  19.169287  3.220987e+08"
            ]
          },
          "execution_count": 6,
          "metadata": {},
          "output_type": "execute_result"
        }
      ],
      "source": [
        "# Concatenating the two dataframes along the columns axis to get dataframe related to the stock data.\n",
        "apple_stock_df = pd.concat([close, avg_vol], axis = 1)\n",
        "apple_stock_df.head(3)"
      ]
    },
    {
      "cell_type": "code",
      "execution_count": 7,
      "metadata": {},
      "outputs": [
        {
          "name": "stderr",
          "output_type": "stream",
          "text": [
            "/var/folders/zh/2l0pp8jn6kd80mywh4f4vlmr0000gn/T/ipykernel_59892/3350265209.py:3: FutureWarning: 'Q' is deprecated and will be removed in a future version, please use 'QE' instead.\n",
            "  apple_dividends_df = apple_dividends_df.resample(\"Q\").last() # last recorded dividend of each quarter\n"
          ]
        }
      ],
      "source": [
        "# get the dividends data for AAPL now and perform similar operations as above\n",
        "apple_dividends_df = yf.Ticker(ticker).dividends # get the dividends data for AAPL\n",
        "apple_dividends_df = apple_dividends_df.resample(\"Q\").last() # last recorded dividend of each quarter\n",
        "apple_dividends_df = apple_dividends_df.to_frame() # convert the series to a dataframe\n",
        "apple_dividends_df.reset_index(inplace = True) # reset the index\n",
        "# Masking the data to get the desired range of data.\n",
        "start_date = \"2013-09-30\"\n",
        "mask = (apple_dividends_df[\"Date\"] >= start_date) & (apple_dividends_df[\"Date\"] <= end_date)\n",
        "apple_dividends_df = apple_dividends_df[mask]\n",
        "apple_dividends_df.set_index(\"Date\", inplace = True)"
      ]
    },
    {
      "cell_type": "code",
      "execution_count": 8,
      "metadata": {},
      "outputs": [
        {
          "data": {
            "text/html": [
              "<div>\n",
              "<style scoped>\n",
              "    .dataframe tbody tr th:only-of-type {\n",
              "        vertical-align: middle;\n",
              "    }\n",
              "\n",
              "    .dataframe tbody tr th {\n",
              "        vertical-align: top;\n",
              "    }\n",
              "\n",
              "    .dataframe thead th {\n",
              "        text-align: right;\n",
              "    }\n",
              "</style>\n",
              "<table border=\"1\" class=\"dataframe\">\n",
              "  <thead>\n",
              "    <tr style=\"text-align: right;\">\n",
              "      <th></th>\n",
              "      <th>Dividends</th>\n",
              "    </tr>\n",
              "    <tr>\n",
              "      <th>Date</th>\n",
              "      <th></th>\n",
              "    </tr>\n",
              "  </thead>\n",
              "  <tbody>\n",
              "    <tr>\n",
              "      <th>2013-09-30</th>\n",
              "      <td>0.108929</td>\n",
              "    </tr>\n",
              "    <tr>\n",
              "      <th>2013-12-31</th>\n",
              "      <td>0.108929</td>\n",
              "    </tr>\n",
              "    <tr>\n",
              "      <th>2014-03-31</th>\n",
              "      <td>0.108929</td>\n",
              "    </tr>\n",
              "    <tr>\n",
              "      <th>2014-06-30</th>\n",
              "      <td>0.117500</td>\n",
              "    </tr>\n",
              "    <tr>\n",
              "      <th>2014-09-30</th>\n",
              "      <td>0.117500</td>\n",
              "    </tr>\n",
              "  </tbody>\n",
              "</table>\n",
              "</div>"
            ],
            "text/plain": [
              "            Dividends\n",
              "Date                 \n",
              "2013-09-30   0.108929\n",
              "2013-12-31   0.108929\n",
              "2014-03-31   0.108929\n",
              "2014-06-30   0.117500\n",
              "2014-09-30   0.117500"
            ]
          },
          "execution_count": 8,
          "metadata": {},
          "output_type": "execute_result"
        }
      ],
      "source": [
        "apple_dividends_df.index = apple_dividends_df.index.strftime(\"%Y-%m-%d\")\n",
        "apple_dividends_df.head()"
      ]
    },
    {
      "cell_type": "code",
      "execution_count": 9,
      "metadata": {},
      "outputs": [
        {
          "name": "stdout",
          "output_type": "stream",
          "text": [
            "Shape of the dataframe: (43, 1)\n"
          ]
        }
      ],
      "source": [
        "print(f\"Shape of the dataframe: {apple_dividends_df.shape}\")"
      ]
    },
    {
      "cell_type": "markdown",
      "metadata": {},
      "source": [
        "Until now, we have the data for stock prices, volumne, and dividends. Now, we will get the fundamental financial data for the company and the economic indicators data using Alpha Vantage."
      ]
    },
    {
      "cell_type": "code",
      "execution_count": 10,
      "metadata": {
        "id": "1dUsjDidSWr8"
      },
      "outputs": [],
      "source": [
        "# Define the dictionary of stock tickers for ease.\n",
        "tickers = {\n",
        "    \"apple\": \"AAPL\",\n",
        "    \"google\": \"GOOGL\",\n",
        "    \"microsoft\": \"MSFT\",\n",
        "    \"tesla\": \"TSLA\",\n",
        "    \"nvidia\": \"NVDA\"\n",
        "}\n",
        "# API key for Alpha Vantage\n",
        "api = \"S3NWX7VJBO74RG2L\"\n",
        "# Define the URLs for the API calls - url for earnings data and url for income statement data.\n",
        "url_earnings = f\"https://www.alphavantage.co/query?function=EARNINGS&symbol={tickers['apple']}&apikey={api}\"\n",
        "url_income_statement = f\"https://www.alphavantage.co/query?function=INCOME_STATEMENT&symbol={tickers['apple']}&apikey={api}\"\n"
      ]
    },
    {
      "cell_type": "code",
      "execution_count": 11,
      "metadata": {
        "id": "m7XZNE-jX4xI"
      },
      "outputs": [],
      "source": [
        "request = requests.get(url_earnings) # a json file\n",
        "data = request.json() # convert the json file to a dictionary\n",
        "with open('apple_earnings.json', 'w') as f:\n",
        "    json.dump(data, f) # save the dictionary to a json file"
      ]
    },
    {
      "cell_type": "code",
      "execution_count": 12,
      "metadata": {
        "id": "001Z_PcqYTev"
      },
      "outputs": [],
      "source": [
        "with open('apple_earnings.json', 'r') as f:\n",
        "    earnings_dict = json.load(f) # open the json file and load the dictionary\n",
        "    \n",
        "if \"quarterlyEarnings\" in earnings_dict: # check if the key \"quarterlyEarnings\" is in the dictionary\n",
        "    earnings = earnings_dict[\"quarterlyEarnings\"]\n",
        "    apple_earnings_df = pd.DataFrame(earnings) # convert the dictionary of quarterly earnings to a dataframe\n",
        "else:\n",
        "    print(\"No earnings data found.\") # if the key is not found, print this message"
      ]
    },
    {
      "cell_type": "code",
      "execution_count": 13,
      "metadata": {
        "colab": {
          "base_uri": "https://localhost:8080/",
          "height": 226
        },
        "id": "hN5gEbvHYYSi",
        "outputId": "6ef7a380-0b8a-4d2e-cded-fca1e00d3bfd"
      },
      "outputs": [
        {
          "data": {
            "text/html": [
              "<div>\n",
              "<style scoped>\n",
              "    .dataframe tbody tr th:only-of-type {\n",
              "        vertical-align: middle;\n",
              "    }\n",
              "\n",
              "    .dataframe tbody tr th {\n",
              "        vertical-align: top;\n",
              "    }\n",
              "\n",
              "    .dataframe thead th {\n",
              "        text-align: right;\n",
              "    }\n",
              "</style>\n",
              "<table border=\"1\" class=\"dataframe\">\n",
              "  <thead>\n",
              "    <tr style=\"text-align: right;\">\n",
              "      <th></th>\n",
              "      <th>fiscalDateEnding</th>\n",
              "      <th>reportedDate</th>\n",
              "      <th>reportedEPS</th>\n",
              "      <th>estimatedEPS</th>\n",
              "      <th>surprise</th>\n",
              "      <th>surprisePercentage</th>\n",
              "      <th>reportTime</th>\n",
              "    </tr>\n",
              "  </thead>\n",
              "  <tbody>\n",
              "    <tr>\n",
              "      <th>0</th>\n",
              "      <td>2024-09-30</td>\n",
              "      <td>2024-10-31</td>\n",
              "      <td>1.64</td>\n",
              "      <td>1.6</td>\n",
              "      <td>0.04</td>\n",
              "      <td>2.5</td>\n",
              "      <td>post-market</td>\n",
              "    </tr>\n",
              "    <tr>\n",
              "      <th>1</th>\n",
              "      <td>2024-06-30</td>\n",
              "      <td>2024-08-01</td>\n",
              "      <td>1.4</td>\n",
              "      <td>1.35</td>\n",
              "      <td>0.05</td>\n",
              "      <td>3.7037</td>\n",
              "      <td>post-market</td>\n",
              "    </tr>\n",
              "    <tr>\n",
              "      <th>2</th>\n",
              "      <td>2024-03-31</td>\n",
              "      <td>2024-05-02</td>\n",
              "      <td>1.53</td>\n",
              "      <td>1.5</td>\n",
              "      <td>0.03</td>\n",
              "      <td>2</td>\n",
              "      <td>post-market</td>\n",
              "    </tr>\n",
              "    <tr>\n",
              "      <th>3</th>\n",
              "      <td>2023-12-31</td>\n",
              "      <td>2024-02-01</td>\n",
              "      <td>2.18</td>\n",
              "      <td>2.1</td>\n",
              "      <td>0.08</td>\n",
              "      <td>3.8095</td>\n",
              "      <td>post-market</td>\n",
              "    </tr>\n",
              "    <tr>\n",
              "      <th>4</th>\n",
              "      <td>2023-09-30</td>\n",
              "      <td>2023-11-02</td>\n",
              "      <td>1.46</td>\n",
              "      <td>1.39</td>\n",
              "      <td>0.07</td>\n",
              "      <td>5.036</td>\n",
              "      <td>post-market</td>\n",
              "    </tr>\n",
              "  </tbody>\n",
              "</table>\n",
              "</div>"
            ],
            "text/plain": [
              "  fiscalDateEnding reportedDate reportedEPS estimatedEPS surprise  \\\n",
              "0       2024-09-30   2024-10-31        1.64          1.6     0.04   \n",
              "1       2024-06-30   2024-08-01         1.4         1.35     0.05   \n",
              "2       2024-03-31   2024-05-02        1.53          1.5     0.03   \n",
              "3       2023-12-31   2024-02-01        2.18          2.1     0.08   \n",
              "4       2023-09-30   2023-11-02        1.46         1.39     0.07   \n",
              "\n",
              "  surprisePercentage   reportTime  \n",
              "0                2.5  post-market  \n",
              "1             3.7037  post-market  \n",
              "2                  2  post-market  \n",
              "3             3.8095  post-market  \n",
              "4              5.036  post-market  "
            ]
          },
          "execution_count": 13,
          "metadata": {},
          "output_type": "execute_result"
        }
      ],
      "source": [
        "apple_earnings_df.head()"
      ]
    },
    {
      "cell_type": "code",
      "execution_count": 14,
      "metadata": {
        "colab": {
          "base_uri": "https://localhost:8080/"
        },
        "id": "ifwm9icFdaPH",
        "outputId": "3d5e777a-c9b6-4569-fde1-a9bf8bd1ad09"
      },
      "outputs": [
        {
          "name": "stdout",
          "output_type": "stream",
          "text": [
            "<class 'pandas.core.frame.DataFrame'>\n",
            "RangeIndex: 115 entries, 0 to 114\n",
            "Data columns (total 7 columns):\n",
            " #   Column              Non-Null Count  Dtype \n",
            "---  ------              --------------  ----- \n",
            " 0   fiscalDateEnding    115 non-null    object\n",
            " 1   reportedDate        115 non-null    object\n",
            " 2   reportedEPS         115 non-null    object\n",
            " 3   estimatedEPS        115 non-null    object\n",
            " 4   surprise            115 non-null    object\n",
            " 5   surprisePercentage  115 non-null    object\n",
            " 6   reportTime          115 non-null    object\n",
            "dtypes: object(7)\n",
            "memory usage: 6.4+ KB\n"
          ]
        }
      ],
      "source": [
        "apple_earnings_df.info()"
      ]
    },
    {
      "cell_type": "code",
      "execution_count": 15,
      "metadata": {
        "id": "iB7izDQvdieh"
      },
      "outputs": [],
      "source": [
        "# convert the date columns to datetime objects\n",
        "apple_earnings_df[\"fiscalDateEnding\"] = pd.to_datetime(apple_earnings_df[\"fiscalDateEnding\"])\n",
        "apple_earnings_df[\"reportedDate\"] = pd.to_datetime(apple_earnings_df[\"reportedDate\"])"
      ]
    },
    {
      "cell_type": "code",
      "execution_count": 16,
      "metadata": {
        "id": "YVKd-6Iqd6fK"
      },
      "outputs": [],
      "source": [
        "# we will only keep fiscalDateEnding and reportedEPS - where reportedEPS is the reported earnings per share\n",
        "apple_earnings_df = apple_earnings_df[[\"fiscalDateEnding\", \"reportedEPS\"]]"
      ]
    },
    {
      "cell_type": "code",
      "execution_count": 17,
      "metadata": {
        "id": "u1N5a8UweudP"
      },
      "outputs": [],
      "source": [
        "# Masking the data to get the desired range of data.\n",
        "mask = (apple_earnings_df[\"fiscalDateEnding\"] >= start_date) & (apple_earnings_df[\"fiscalDateEnding\"] <= end_date)\n",
        "apple_earnings_df = apple_earnings_df[mask]"
      ]
    },
    {
      "cell_type": "code",
      "execution_count": 18,
      "metadata": {
        "id": "X7Iv7PmJf9__"
      },
      "outputs": [],
      "source": [
        "# Sorting the data by the fiscalDateEnding column.\n",
        "apple_earnings_df.sort_values(by = \"fiscalDateEnding\", inplace = True)"
      ]
    },
    {
      "cell_type": "code",
      "execution_count": 19,
      "metadata": {
        "colab": {
          "base_uri": "https://localhost:8080/",
          "height": 143
        },
        "id": "HZkbd-Pnfh9e",
        "outputId": "59bb3583-ba82-4402-cb73-f113092b460d"
      },
      "outputs": [
        {
          "data": {
            "text/html": [
              "<div>\n",
              "<style scoped>\n",
              "    .dataframe tbody tr th:only-of-type {\n",
              "        vertical-align: middle;\n",
              "    }\n",
              "\n",
              "    .dataframe tbody tr th {\n",
              "        vertical-align: top;\n",
              "    }\n",
              "\n",
              "    .dataframe thead th {\n",
              "        text-align: right;\n",
              "    }\n",
              "</style>\n",
              "<table border=\"1\" class=\"dataframe\">\n",
              "  <thead>\n",
              "    <tr style=\"text-align: right;\">\n",
              "      <th></th>\n",
              "      <th>fiscalDateEnding</th>\n",
              "      <th>reportedEPS</th>\n",
              "    </tr>\n",
              "  </thead>\n",
              "  <tbody>\n",
              "    <tr>\n",
              "      <th>44</th>\n",
              "      <td>2013-09-30</td>\n",
              "      <td>0.295</td>\n",
              "    </tr>\n",
              "    <tr>\n",
              "      <th>43</th>\n",
              "      <td>2013-12-31</td>\n",
              "      <td>0.5175</td>\n",
              "    </tr>\n",
              "    <tr>\n",
              "      <th>42</th>\n",
              "      <td>2014-03-31</td>\n",
              "      <td>0.415</td>\n",
              "    </tr>\n",
              "  </tbody>\n",
              "</table>\n",
              "</div>"
            ],
            "text/plain": [
              "   fiscalDateEnding reportedEPS\n",
              "44       2013-09-30       0.295\n",
              "43       2013-12-31      0.5175\n",
              "42       2014-03-31       0.415"
            ]
          },
          "execution_count": 19,
          "metadata": {},
          "output_type": "execute_result"
        }
      ],
      "source": [
        "apple_earnings_df.head(3)"
      ]
    },
    {
      "cell_type": "code",
      "execution_count": 20,
      "metadata": {
        "colab": {
          "base_uri": "https://localhost:8080/",
          "height": 175
        },
        "id": "AHqg0R8sfjvB",
        "outputId": "3b727bfb-ad10-4466-c6d4-0a8481b6812d"
      },
      "outputs": [
        {
          "data": {
            "text/html": [
              "<div>\n",
              "<style scoped>\n",
              "    .dataframe tbody tr th:only-of-type {\n",
              "        vertical-align: middle;\n",
              "    }\n",
              "\n",
              "    .dataframe tbody tr th {\n",
              "        vertical-align: top;\n",
              "    }\n",
              "\n",
              "    .dataframe thead th {\n",
              "        text-align: right;\n",
              "    }\n",
              "</style>\n",
              "<table border=\"1\" class=\"dataframe\">\n",
              "  <thead>\n",
              "    <tr style=\"text-align: right;\">\n",
              "      <th></th>\n",
              "      <th>fiscalDateEnding</th>\n",
              "      <th>reportedEPS</th>\n",
              "    </tr>\n",
              "  </thead>\n",
              "  <tbody>\n",
              "    <tr>\n",
              "      <th>4</th>\n",
              "      <td>2023-09-30</td>\n",
              "      <td>1.46</td>\n",
              "    </tr>\n",
              "    <tr>\n",
              "      <th>3</th>\n",
              "      <td>2023-12-31</td>\n",
              "      <td>2.18</td>\n",
              "    </tr>\n",
              "    <tr>\n",
              "      <th>2</th>\n",
              "      <td>2024-03-31</td>\n",
              "      <td>1.53</td>\n",
              "    </tr>\n",
              "  </tbody>\n",
              "</table>\n",
              "</div>"
            ],
            "text/plain": [
              "  fiscalDateEnding reportedEPS\n",
              "4       2023-09-30        1.46\n",
              "3       2023-12-31        2.18\n",
              "2       2024-03-31        1.53"
            ]
          },
          "execution_count": 20,
          "metadata": {},
          "output_type": "execute_result"
        }
      ],
      "source": [
        "apple_earnings_df.tail(3)"
      ]
    },
    {
      "cell_type": "code",
      "execution_count": 21,
      "metadata": {
        "id": "2avYJ0SgmZe5"
      },
      "outputs": [],
      "source": [
        "# we will make fiscalDateEnding the index\n",
        "apple_earnings_df.set_index(\"fiscalDateEnding\", inplace = True)"
      ]
    },
    {
      "cell_type": "code",
      "execution_count": 22,
      "metadata": {},
      "outputs": [],
      "source": [
        "apple_earnings_df.index = apple_earnings_df.index.strftime(\"%Y-%m-%d\")"
      ]
    },
    {
      "cell_type": "code",
      "execution_count": 23,
      "metadata": {
        "colab": {
          "base_uri": "https://localhost:8080/"
        },
        "id": "qXuCGB3kmH8w",
        "outputId": "ccbd6487-1515-4f00-e49b-f6154265f89b"
      },
      "outputs": [
        {
          "data": {
            "text/plain": [
              "(43, 1)"
            ]
          },
          "execution_count": 23,
          "metadata": {},
          "output_type": "execute_result"
        }
      ],
      "source": [
        "apple_earnings_df.shape"
      ]
    },
    {
      "cell_type": "markdown",
      "metadata": {
        "id": "GkGhdWENd-i0"
      },
      "source": [
        "Moving on to the income statements (quarterly) for Apple"
      ]
    },
    {
      "cell_type": "code",
      "execution_count": 24,
      "metadata": {},
      "outputs": [],
      "source": [
        "# Similar operations for the income statement data.\n",
        "request = requests.get(url_income_statement)\n",
        "data = request.json() \n",
        "with open('apple_income_statement.json', 'w') as f:\n",
        "    json.dump(data, f)"
      ]
    },
    {
      "cell_type": "code",
      "execution_count": 25,
      "metadata": {},
      "outputs": [],
      "source": [
        "with open('apple_income_statement.json', 'r') as f:\n",
        "    income_statement_dict = json.load(f)\n",
        "    \n",
        "if \"quarterlyReports\" in income_statement_dict: # check if the key \"quarterlyReports\" is in the dictionary\n",
        "    income_statement = income_statement_dict[\"quarterlyReports\"] # get the data\n",
        "    apple_income_statement_df = pd.DataFrame(income_statement)  # convert the dictionary of quarterly income statement to a dataframe\n",
        "else:\n",
        "    print(\"No income statement data found.\")"
      ]
    },
    {
      "cell_type": "code",
      "execution_count": 26,
      "metadata": {},
      "outputs": [
        {
          "data": {
            "text/html": [
              "<div>\n",
              "<style scoped>\n",
              "    .dataframe tbody tr th:only-of-type {\n",
              "        vertical-align: middle;\n",
              "    }\n",
              "\n",
              "    .dataframe tbody tr th {\n",
              "        vertical-align: top;\n",
              "    }\n",
              "\n",
              "    .dataframe thead th {\n",
              "        text-align: right;\n",
              "    }\n",
              "</style>\n",
              "<table border=\"1\" class=\"dataframe\">\n",
              "  <thead>\n",
              "    <tr style=\"text-align: right;\">\n",
              "      <th></th>\n",
              "      <th>fiscalDateEnding</th>\n",
              "      <th>reportedCurrency</th>\n",
              "      <th>grossProfit</th>\n",
              "      <th>totalRevenue</th>\n",
              "      <th>costOfRevenue</th>\n",
              "      <th>costofGoodsAndServicesSold</th>\n",
              "      <th>operatingIncome</th>\n",
              "      <th>sellingGeneralAndAdministrative</th>\n",
              "      <th>researchAndDevelopment</th>\n",
              "      <th>operatingExpenses</th>\n",
              "      <th>...</th>\n",
              "      <th>depreciation</th>\n",
              "      <th>depreciationAndAmortization</th>\n",
              "      <th>incomeBeforeTax</th>\n",
              "      <th>incomeTaxExpense</th>\n",
              "      <th>interestAndDebtExpense</th>\n",
              "      <th>netIncomeFromContinuingOperations</th>\n",
              "      <th>comprehensiveIncomeNetOfTax</th>\n",
              "      <th>ebit</th>\n",
              "      <th>ebitda</th>\n",
              "      <th>netIncome</th>\n",
              "    </tr>\n",
              "  </thead>\n",
              "  <tbody>\n",
              "    <tr>\n",
              "      <th>0</th>\n",
              "      <td>2024-09-30</td>\n",
              "      <td>USD</td>\n",
              "      <td>43879000000</td>\n",
              "      <td>94930000000</td>\n",
              "      <td>57574000000</td>\n",
              "      <td>51051000000</td>\n",
              "      <td>29591000000</td>\n",
              "      <td>6523000000</td>\n",
              "      <td>7765000000</td>\n",
              "      <td>14288000000</td>\n",
              "      <td>...</td>\n",
              "      <td>None</td>\n",
              "      <td>2911000000</td>\n",
              "      <td>29610000000</td>\n",
              "      <td>14874000000</td>\n",
              "      <td>None</td>\n",
              "      <td>14736000000</td>\n",
              "      <td>15980000000</td>\n",
              "      <td>29591000000</td>\n",
              "      <td>32502000000</td>\n",
              "      <td>14736000000</td>\n",
              "    </tr>\n",
              "    <tr>\n",
              "      <th>1</th>\n",
              "      <td>2024-06-30</td>\n",
              "      <td>USD</td>\n",
              "      <td>39678000000</td>\n",
              "      <td>85777000000</td>\n",
              "      <td>52419000000</td>\n",
              "      <td>46099000000</td>\n",
              "      <td>25352000000</td>\n",
              "      <td>6320000000</td>\n",
              "      <td>8006000000</td>\n",
              "      <td>14326000000</td>\n",
              "      <td>...</td>\n",
              "      <td>None</td>\n",
              "      <td>2850000000</td>\n",
              "      <td>25494000000</td>\n",
              "      <td>4046000000</td>\n",
              "      <td>None</td>\n",
              "      <td>21448000000</td>\n",
              "      <td>21992000000</td>\n",
              "      <td>25352000000</td>\n",
              "      <td>28202000000</td>\n",
              "      <td>21448000000</td>\n",
              "    </tr>\n",
              "    <tr>\n",
              "      <th>2</th>\n",
              "      <td>2024-03-31</td>\n",
              "      <td>USD</td>\n",
              "      <td>42271000000</td>\n",
              "      <td>90753000000</td>\n",
              "      <td>54950000000</td>\n",
              "      <td>48482000000</td>\n",
              "      <td>27900000000</td>\n",
              "      <td>6468000000</td>\n",
              "      <td>7903000000</td>\n",
              "      <td>14371000000</td>\n",
              "      <td>...</td>\n",
              "      <td>None</td>\n",
              "      <td>2836000000</td>\n",
              "      <td>28058000000</td>\n",
              "      <td>4422000000</td>\n",
              "      <td>None</td>\n",
              "      <td>23636000000</td>\n",
              "      <td>24054000000</td>\n",
              "      <td>27900000000</td>\n",
              "      <td>30736000000</td>\n",
              "      <td>23636000000</td>\n",
              "    </tr>\n",
              "    <tr>\n",
              "      <th>3</th>\n",
              "      <td>2023-12-31</td>\n",
              "      <td>USD</td>\n",
              "      <td>54855000000</td>\n",
              "      <td>119575000000</td>\n",
              "      <td>71506000000</td>\n",
              "      <td>64720000000</td>\n",
              "      <td>40373000000</td>\n",
              "      <td>6786000000</td>\n",
              "      <td>7696000000</td>\n",
              "      <td>14482000000</td>\n",
              "      <td>...</td>\n",
              "      <td>None</td>\n",
              "      <td>2848000000</td>\n",
              "      <td>40323000000</td>\n",
              "      <td>6407000000</td>\n",
              "      <td>None</td>\n",
              "      <td>33916000000</td>\n",
              "      <td>35990000000</td>\n",
              "      <td>40373000000</td>\n",
              "      <td>43221000000</td>\n",
              "      <td>33916000000</td>\n",
              "    </tr>\n",
              "    <tr>\n",
              "      <th>4</th>\n",
              "      <td>2023-09-30</td>\n",
              "      <td>USD</td>\n",
              "      <td>40427000000</td>\n",
              "      <td>88496000000</td>\n",
              "      <td>55222000000</td>\n",
              "      <td>49071000000</td>\n",
              "      <td>26969000000</td>\n",
              "      <td>6151000000</td>\n",
              "      <td>7307000000</td>\n",
              "      <td>13458000000</td>\n",
              "      <td>...</td>\n",
              "      <td>None</td>\n",
              "      <td>2653000000</td>\n",
              "      <td>26998000000</td>\n",
              "      <td>4042000000</td>\n",
              "      <td>1002000000</td>\n",
              "      <td>22956000000</td>\n",
              "      <td>23305000000</td>\n",
              "      <td>28000000000</td>\n",
              "      <td>29622000000</td>\n",
              "      <td>22956000000</td>\n",
              "    </tr>\n",
              "  </tbody>\n",
              "</table>\n",
              "<p>5 rows × 26 columns</p>\n",
              "</div>"
            ],
            "text/plain": [
              "  fiscalDateEnding reportedCurrency  grossProfit  totalRevenue costOfRevenue  \\\n",
              "0       2024-09-30              USD  43879000000   94930000000   57574000000   \n",
              "1       2024-06-30              USD  39678000000   85777000000   52419000000   \n",
              "2       2024-03-31              USD  42271000000   90753000000   54950000000   \n",
              "3       2023-12-31              USD  54855000000  119575000000   71506000000   \n",
              "4       2023-09-30              USD  40427000000   88496000000   55222000000   \n",
              "\n",
              "  costofGoodsAndServicesSold operatingIncome sellingGeneralAndAdministrative  \\\n",
              "0                51051000000     29591000000                      6523000000   \n",
              "1                46099000000     25352000000                      6320000000   \n",
              "2                48482000000     27900000000                      6468000000   \n",
              "3                64720000000     40373000000                      6786000000   \n",
              "4                49071000000     26969000000                      6151000000   \n",
              "\n",
              "  researchAndDevelopment operatingExpenses  ... depreciation  \\\n",
              "0             7765000000       14288000000  ...         None   \n",
              "1             8006000000       14326000000  ...         None   \n",
              "2             7903000000       14371000000  ...         None   \n",
              "3             7696000000       14482000000  ...         None   \n",
              "4             7307000000       13458000000  ...         None   \n",
              "\n",
              "  depreciationAndAmortization incomeBeforeTax incomeTaxExpense  \\\n",
              "0                  2911000000     29610000000      14874000000   \n",
              "1                  2850000000     25494000000       4046000000   \n",
              "2                  2836000000     28058000000       4422000000   \n",
              "3                  2848000000     40323000000       6407000000   \n",
              "4                  2653000000     26998000000       4042000000   \n",
              "\n",
              "  interestAndDebtExpense netIncomeFromContinuingOperations  \\\n",
              "0                   None                       14736000000   \n",
              "1                   None                       21448000000   \n",
              "2                   None                       23636000000   \n",
              "3                   None                       33916000000   \n",
              "4             1002000000                       22956000000   \n",
              "\n",
              "  comprehensiveIncomeNetOfTax         ebit       ebitda    netIncome  \n",
              "0                 15980000000  29591000000  32502000000  14736000000  \n",
              "1                 21992000000  25352000000  28202000000  21448000000  \n",
              "2                 24054000000  27900000000  30736000000  23636000000  \n",
              "3                 35990000000  40373000000  43221000000  33916000000  \n",
              "4                 23305000000  28000000000  29622000000  22956000000  \n",
              "\n",
              "[5 rows x 26 columns]"
            ]
          },
          "execution_count": 26,
          "metadata": {},
          "output_type": "execute_result"
        }
      ],
      "source": [
        "apple_income_statement_df.head()"
      ]
    },
    {
      "cell_type": "code",
      "execution_count": 27,
      "metadata": {
        "colab": {
          "base_uri": "https://localhost:8080/"
        },
        "id": "c4CEz7o4eUOV",
        "outputId": "fe2c046d-ad33-421f-e588-098c2afaa19c"
      },
      "outputs": [
        {
          "name": "stdout",
          "output_type": "stream",
          "text": [
            "<class 'pandas.core.frame.DataFrame'>\n",
            "RangeIndex: 66 entries, 0 to 65\n",
            "Data columns (total 26 columns):\n",
            " #   Column                             Non-Null Count  Dtype \n",
            "---  ------                             --------------  ----- \n",
            " 0   fiscalDateEnding                   66 non-null     object\n",
            " 1   reportedCurrency                   66 non-null     object\n",
            " 2   grossProfit                        66 non-null     object\n",
            " 3   totalRevenue                       66 non-null     object\n",
            " 4   costOfRevenue                      66 non-null     object\n",
            " 5   costofGoodsAndServicesSold         66 non-null     object\n",
            " 6   operatingIncome                    66 non-null     object\n",
            " 7   sellingGeneralAndAdministrative    66 non-null     object\n",
            " 8   researchAndDevelopment             66 non-null     object\n",
            " 9   operatingExpenses                  66 non-null     object\n",
            " 10  investmentIncomeNet                66 non-null     object\n",
            " 11  netInterestIncome                  66 non-null     object\n",
            " 12  interestIncome                     66 non-null     object\n",
            " 13  interestExpense                    66 non-null     object\n",
            " 14  nonInterestIncome                  66 non-null     object\n",
            " 15  otherNonOperatingIncome            66 non-null     object\n",
            " 16  depreciation                       66 non-null     object\n",
            " 17  depreciationAndAmortization        66 non-null     object\n",
            " 18  incomeBeforeTax                    66 non-null     object\n",
            " 19  incomeTaxExpense                   66 non-null     object\n",
            " 20  interestAndDebtExpense             66 non-null     object\n",
            " 21  netIncomeFromContinuingOperations  66 non-null     object\n",
            " 22  comprehensiveIncomeNetOfTax        66 non-null     object\n",
            " 23  ebit                               66 non-null     object\n",
            " 24  ebitda                             66 non-null     object\n",
            " 25  netIncome                          66 non-null     object\n",
            "dtypes: object(26)\n",
            "memory usage: 13.5+ KB\n"
          ]
        }
      ],
      "source": [
        "apple_income_statement_df.info()"
      ]
    },
    {
      "cell_type": "code",
      "execution_count": 28,
      "metadata": {
        "id": "jNzZAFVWeZYj"
      },
      "outputs": [],
      "source": [
        "# convert the date columns to datetime objects\n",
        "apple_income_statement_df[\"fiscalDateEnding\"] = pd.to_datetime(apple_income_statement_df[\"fiscalDateEnding\"])"
      ]
    },
    {
      "cell_type": "code",
      "execution_count": 29,
      "metadata": {
        "id": "vP5mZDiZeh5V"
      },
      "outputs": [],
      "source": [
        "# we only need fiscalDateEnding, totalRevenue, netIncome for our analysis\n",
        "apple_income_statement_df = apple_income_statement_df[[\"fiscalDateEnding\", \"totalRevenue\", \"netIncome\"]]\n",
        "# Masking the data to get the desired range of data.\n",
        "mask = (apple_income_statement_df[\"fiscalDateEnding\"] >= start_date) & (apple_income_statement_df[\"fiscalDateEnding\"] <= end_date)\n",
        "apple_income_statement_df = apple_income_statement_df[mask]"
      ]
    },
    {
      "cell_type": "code",
      "execution_count": 30,
      "metadata": {
        "id": "qjn5FHKlhLRz"
      },
      "outputs": [],
      "source": [
        "apple_income_statement_df.sort_values(by = \"fiscalDateEnding\", inplace = True)"
      ]
    },
    {
      "cell_type": "code",
      "execution_count": 31,
      "metadata": {
        "colab": {
          "base_uri": "https://localhost:8080/",
          "height": 143
        },
        "id": "BhmwNrl9g3pE",
        "outputId": "89cdf2c5-7a59-4e7e-a9db-f4523d2ed21e"
      },
      "outputs": [
        {
          "data": {
            "text/html": [
              "<div>\n",
              "<style scoped>\n",
              "    .dataframe tbody tr th:only-of-type {\n",
              "        vertical-align: middle;\n",
              "    }\n",
              "\n",
              "    .dataframe tbody tr th {\n",
              "        vertical-align: top;\n",
              "    }\n",
              "\n",
              "    .dataframe thead th {\n",
              "        text-align: right;\n",
              "    }\n",
              "</style>\n",
              "<table border=\"1\" class=\"dataframe\">\n",
              "  <thead>\n",
              "    <tr style=\"text-align: right;\">\n",
              "      <th></th>\n",
              "      <th>fiscalDateEnding</th>\n",
              "      <th>totalRevenue</th>\n",
              "      <th>netIncome</th>\n",
              "    </tr>\n",
              "  </thead>\n",
              "  <tbody>\n",
              "    <tr>\n",
              "      <th>44</th>\n",
              "      <td>2013-09-30</td>\n",
              "      <td>37472000000</td>\n",
              "      <td>7512000000</td>\n",
              "    </tr>\n",
              "    <tr>\n",
              "      <th>43</th>\n",
              "      <td>2013-12-31</td>\n",
              "      <td>57510000000</td>\n",
              "      <td>13072000000</td>\n",
              "    </tr>\n",
              "    <tr>\n",
              "      <th>42</th>\n",
              "      <td>2014-03-31</td>\n",
              "      <td>45561000000</td>\n",
              "      <td>10223000000</td>\n",
              "    </tr>\n",
              "  </tbody>\n",
              "</table>\n",
              "</div>"
            ],
            "text/plain": [
              "   fiscalDateEnding totalRevenue    netIncome\n",
              "44       2013-09-30  37472000000   7512000000\n",
              "43       2013-12-31  57510000000  13072000000\n",
              "42       2014-03-31  45561000000  10223000000"
            ]
          },
          "execution_count": 31,
          "metadata": {},
          "output_type": "execute_result"
        }
      ],
      "source": [
        "apple_income_statement_df.head(3)"
      ]
    },
    {
      "cell_type": "code",
      "execution_count": 32,
      "metadata": {
        "colab": {
          "base_uri": "https://localhost:8080/",
          "height": 175
        },
        "id": "FrUH6sGDhGi9",
        "outputId": "7fd75eaf-7b6a-4b94-d92b-6cb1bd84de27"
      },
      "outputs": [
        {
          "data": {
            "text/html": [
              "<div>\n",
              "<style scoped>\n",
              "    .dataframe tbody tr th:only-of-type {\n",
              "        vertical-align: middle;\n",
              "    }\n",
              "\n",
              "    .dataframe tbody tr th {\n",
              "        vertical-align: top;\n",
              "    }\n",
              "\n",
              "    .dataframe thead th {\n",
              "        text-align: right;\n",
              "    }\n",
              "</style>\n",
              "<table border=\"1\" class=\"dataframe\">\n",
              "  <thead>\n",
              "    <tr style=\"text-align: right;\">\n",
              "      <th></th>\n",
              "      <th>fiscalDateEnding</th>\n",
              "      <th>totalRevenue</th>\n",
              "      <th>netIncome</th>\n",
              "    </tr>\n",
              "  </thead>\n",
              "  <tbody>\n",
              "    <tr>\n",
              "      <th>4</th>\n",
              "      <td>2023-09-30</td>\n",
              "      <td>88496000000</td>\n",
              "      <td>22956000000</td>\n",
              "    </tr>\n",
              "    <tr>\n",
              "      <th>3</th>\n",
              "      <td>2023-12-31</td>\n",
              "      <td>119575000000</td>\n",
              "      <td>33916000000</td>\n",
              "    </tr>\n",
              "    <tr>\n",
              "      <th>2</th>\n",
              "      <td>2024-03-31</td>\n",
              "      <td>90753000000</td>\n",
              "      <td>23636000000</td>\n",
              "    </tr>\n",
              "  </tbody>\n",
              "</table>\n",
              "</div>"
            ],
            "text/plain": [
              "  fiscalDateEnding  totalRevenue    netIncome\n",
              "4       2023-09-30   88496000000  22956000000\n",
              "3       2023-12-31  119575000000  33916000000\n",
              "2       2024-03-31   90753000000  23636000000"
            ]
          },
          "execution_count": 32,
          "metadata": {},
          "output_type": "execute_result"
        }
      ],
      "source": [
        "apple_income_statement_df.tail(3)"
      ]
    },
    {
      "cell_type": "code",
      "execution_count": 33,
      "metadata": {
        "colab": {
          "base_uri": "https://localhost:8080/"
        },
        "id": "r5G28iBNmUfW",
        "outputId": "04e81ca6-2ac3-4141-a997-39e6afc5416b"
      },
      "outputs": [
        {
          "data": {
            "text/plain": [
              "(43, 3)"
            ]
          },
          "execution_count": 33,
          "metadata": {},
          "output_type": "execute_result"
        }
      ],
      "source": [
        "apple_income_statement_df.shape"
      ]
    },
    {
      "cell_type": "code",
      "execution_count": 34,
      "metadata": {
        "id": "B8mF5lSdmjLB"
      },
      "outputs": [],
      "source": [
        "apple_income_statement_df.set_index(\"fiscalDateEnding\", inplace = True)"
      ]
    },
    {
      "cell_type": "code",
      "execution_count": 35,
      "metadata": {},
      "outputs": [],
      "source": [
        "apple_income_statement_df.index = apple_income_statement_df.index.strftime(\"%Y-%m-%d\")"
      ]
    },
    {
      "cell_type": "markdown",
      "metadata": {
        "id": "ctvNLPQMoBNe"
      },
      "source": [
        "Now, it is time to merge all the company specific data!"
      ]
    },
    {
      "cell_type": "code",
      "execution_count": 36,
      "metadata": {
        "colab": {
          "base_uri": "https://localhost:8080/",
          "height": 206
        },
        "id": "OKYbePKNoAgc",
        "outputId": "f8f8c5c2-6564-4280-f9c3-c6ee4431b0f1"
      },
      "outputs": [
        {
          "data": {
            "text/html": [
              "<div>\n",
              "<style scoped>\n",
              "    .dataframe tbody tr th:only-of-type {\n",
              "        vertical-align: middle;\n",
              "    }\n",
              "\n",
              "    .dataframe tbody tr th {\n",
              "        vertical-align: top;\n",
              "    }\n",
              "\n",
              "    .dataframe thead th {\n",
              "        text-align: right;\n",
              "    }\n",
              "</style>\n",
              "<table border=\"1\" class=\"dataframe\">\n",
              "  <thead>\n",
              "    <tr style=\"text-align: right;\">\n",
              "      <th></th>\n",
              "      <th>Close</th>\n",
              "      <th>Volume</th>\n",
              "      <th>reportedEPS</th>\n",
              "      <th>totalRevenue</th>\n",
              "      <th>netIncome</th>\n",
              "      <th>Dividends</th>\n",
              "    </tr>\n",
              "  </thead>\n",
              "  <tbody>\n",
              "    <tr>\n",
              "      <th>2013-09-30</th>\n",
              "      <td>17.026787</td>\n",
              "      <td>3.629280e+08</td>\n",
              "      <td>0.295</td>\n",
              "      <td>37472000000</td>\n",
              "      <td>7512000000</td>\n",
              "      <td>0.108929</td>\n",
              "    </tr>\n",
              "    <tr>\n",
              "      <th>2013-12-31</th>\n",
              "      <td>20.036428</td>\n",
              "      <td>3.143794e+08</td>\n",
              "      <td>0.5175</td>\n",
              "      <td>57510000000</td>\n",
              "      <td>13072000000</td>\n",
              "      <td>0.108929</td>\n",
              "    </tr>\n",
              "    <tr>\n",
              "      <th>2014-03-31</th>\n",
              "      <td>19.169287</td>\n",
              "      <td>3.220987e+08</td>\n",
              "      <td>0.415</td>\n",
              "      <td>45561000000</td>\n",
              "      <td>10223000000</td>\n",
              "      <td>0.108929</td>\n",
              "    </tr>\n",
              "    <tr>\n",
              "      <th>2014-06-30</th>\n",
              "      <td>23.232500</td>\n",
              "      <td>2.698170e+08</td>\n",
              "      <td>0.32</td>\n",
              "      <td>37332000000</td>\n",
              "      <td>7748000000</td>\n",
              "      <td>0.117500</td>\n",
              "    </tr>\n",
              "    <tr>\n",
              "      <th>2014-09-30</th>\n",
              "      <td>25.187500</td>\n",
              "      <td>2.186614e+08</td>\n",
              "      <td>0.355</td>\n",
              "      <td>42123000000</td>\n",
              "      <td>8467000000</td>\n",
              "      <td>0.117500</td>\n",
              "    </tr>\n",
              "  </tbody>\n",
              "</table>\n",
              "</div>"
            ],
            "text/plain": [
              "                Close        Volume reportedEPS totalRevenue    netIncome  \\\n",
              "2013-09-30  17.026787  3.629280e+08       0.295  37472000000   7512000000   \n",
              "2013-12-31  20.036428  3.143794e+08      0.5175  57510000000  13072000000   \n",
              "2014-03-31  19.169287  3.220987e+08       0.415  45561000000  10223000000   \n",
              "2014-06-30  23.232500  2.698170e+08        0.32  37332000000   7748000000   \n",
              "2014-09-30  25.187500  2.186614e+08       0.355  42123000000   8467000000   \n",
              "\n",
              "            Dividends  \n",
              "2013-09-30   0.108929  \n",
              "2013-12-31   0.108929  \n",
              "2014-03-31   0.108929  \n",
              "2014-06-30   0.117500  \n",
              "2014-09-30   0.117500  "
            ]
          },
          "execution_count": 36,
          "metadata": {},
          "output_type": "execute_result"
        }
      ],
      "source": [
        "# merge all datasets into one dataframe - apple_df. concat along the columns axis.\n",
        "apple_df = pd.concat([apple_stock_df, apple_earnings_df, apple_income_statement_df, apple_dividends_df], axis = 1)\n",
        "apple_df.head()"
      ]
    },
    {
      "cell_type": "code",
      "execution_count": 37,
      "metadata": {
        "id": "6EH2HxIvojuI"
      },
      "outputs": [],
      "source": [
        "# we will now make the datatypes to numeric (float) all together\n",
        "apple_df = apple_df.astype(float)"
      ]
    },
    {
      "cell_type": "code",
      "execution_count": 38,
      "metadata": {
        "colab": {
          "base_uri": "https://localhost:8080/"
        },
        "id": "YELevKUZpBIK",
        "outputId": "ea32380a-0857-469c-d728-e053c69549f5"
      },
      "outputs": [
        {
          "name": "stdout",
          "output_type": "stream",
          "text": [
            "<class 'pandas.core.frame.DataFrame'>\n",
            "Index: 43 entries, 2013-09-30 to 2024-03-31\n",
            "Data columns (total 6 columns):\n",
            " #   Column        Non-Null Count  Dtype  \n",
            "---  ------        --------------  -----  \n",
            " 0   Close         43 non-null     float64\n",
            " 1   Volume        43 non-null     float64\n",
            " 2   reportedEPS   43 non-null     float64\n",
            " 3   totalRevenue  43 non-null     float64\n",
            " 4   netIncome     43 non-null     float64\n",
            " 5   Dividends     43 non-null     float64\n",
            "dtypes: float64(6)\n",
            "memory usage: 2.4+ KB\n"
          ]
        }
      ],
      "source": [
        "apple_df.info()"
      ]
    },
    {
      "cell_type": "markdown",
      "metadata": {
        "id": "cBqJb03Y44cl"
      },
      "source": [
        "Now, we will consider adding the relevant economic data for our time period to enhance the predictions. "
      ]
    },
    {
      "cell_type": "code",
      "execution_count": 39,
      "metadata": {
        "id": "0aARjTpu4-Wb"
      },
      "outputs": [],
      "source": [
        "# Url to retrieve the Real GDP data from Alpha Vantage.\n",
        "url_gdp = f'https://www.alphavantage.co/query?function=REAL_GDP&interval=quarterly&apikey={api}&datatype=csv'\n",
        "data = requests.get(url_gdp)\n",
        "with open('gdp.csv', 'w') as f:\n",
        "    f.write(data.text)"
      ]
    },
    {
      "cell_type": "code",
      "execution_count": 40,
      "metadata": {
        "id": "3ISuA_Zk5w8U"
      },
      "outputs": [],
      "source": [
        "with open('gdp.csv', 'r') as f: # open the saved csv file\n",
        "    gdp_df = pd.read_csv(f)\n",
        "# convert the timestamp column to datetime objects\n",
        "gdp_df[\"timestamp\"] = pd.to_datetime(gdp_df[\"timestamp\"])"
      ]
    },
    {
      "cell_type": "code",
      "execution_count": 41,
      "metadata": {},
      "outputs": [
        {
          "data": {
            "text/html": [
              "<div>\n",
              "<style scoped>\n",
              "    .dataframe tbody tr th:only-of-type {\n",
              "        vertical-align: middle;\n",
              "    }\n",
              "\n",
              "    .dataframe tbody tr th {\n",
              "        vertical-align: top;\n",
              "    }\n",
              "\n",
              "    .dataframe thead th {\n",
              "        text-align: right;\n",
              "    }\n",
              "</style>\n",
              "<table border=\"1\" class=\"dataframe\">\n",
              "  <thead>\n",
              "    <tr style=\"text-align: right;\">\n",
              "      <th></th>\n",
              "      <th>timestamp</th>\n",
              "      <th>value</th>\n",
              "    </tr>\n",
              "  </thead>\n",
              "  <tbody>\n",
              "    <tr>\n",
              "      <th>0</th>\n",
              "      <td>2024-07-01</td>\n",
              "      <td>5866.670</td>\n",
              "    </tr>\n",
              "    <tr>\n",
              "      <th>1</th>\n",
              "      <td>2024-04-01</td>\n",
              "      <td>5817.169</td>\n",
              "    </tr>\n",
              "    <tr>\n",
              "      <th>2</th>\n",
              "      <td>2024-01-01</td>\n",
              "      <td>5638.455</td>\n",
              "    </tr>\n",
              "  </tbody>\n",
              "</table>\n",
              "</div>"
            ],
            "text/plain": [
              "   timestamp     value\n",
              "0 2024-07-01  5866.670\n",
              "1 2024-04-01  5817.169\n",
              "2 2024-01-01  5638.455"
            ]
          },
          "execution_count": 41,
          "metadata": {},
          "output_type": "execute_result"
        }
      ],
      "source": [
        "gdp_df.head(3)"
      ]
    },
    {
      "cell_type": "markdown",
      "metadata": {},
      "source": [
        "The timestamp column is different from the timestamps we are dealing with. It is one day more than our timestamp. Simply adjust it by substracting one day!"
      ]
    },
    {
      "cell_type": "code",
      "execution_count": 42,
      "metadata": {
        "id": "IPPpgKaP64Vk"
      },
      "outputs": [],
      "source": [
        "gdp_df[\"timestamp\"] = gdp_df[\"timestamp\"] - pd.Timedelta(days = 1)"
      ]
    },
    {
      "cell_type": "code",
      "execution_count": 43,
      "metadata": {
        "id": "sbmK_H2m7UVg"
      },
      "outputs": [],
      "source": [
        "# Masking the data to get the desired range of data.\n",
        "mask = (gdp_df[\"timestamp\"] >= start_date) & (gdp_df[\"timestamp\"] <= end_date)\n",
        "gdp_df = gdp_df[mask]"
      ]
    },
    {
      "cell_type": "code",
      "execution_count": 44,
      "metadata": {
        "colab": {
          "base_uri": "https://localhost:8080/",
          "height": 255
        },
        "id": "ksN34snV763b",
        "outputId": "035057c7-1438-4b0b-8c09-c4192a43d8a1"
      },
      "outputs": [
        {
          "name": "stdout",
          "output_type": "stream",
          "text": [
            "Shape of gdp_df: (43, 1)\n"
          ]
        },
        {
          "data": {
            "text/html": [
              "<div>\n",
              "<style scoped>\n",
              "    .dataframe tbody tr th:only-of-type {\n",
              "        vertical-align: middle;\n",
              "    }\n",
              "\n",
              "    .dataframe tbody tr th {\n",
              "        vertical-align: top;\n",
              "    }\n",
              "\n",
              "    .dataframe thead th {\n",
              "        text-align: right;\n",
              "    }\n",
              "</style>\n",
              "<table border=\"1\" class=\"dataframe\">\n",
              "  <thead>\n",
              "    <tr style=\"text-align: right;\">\n",
              "      <th></th>\n",
              "      <th>GDP</th>\n",
              "    </tr>\n",
              "    <tr>\n",
              "      <th>timestamp</th>\n",
              "      <th></th>\n",
              "    </tr>\n",
              "  </thead>\n",
              "  <tbody>\n",
              "    <tr>\n",
              "      <th>2013-09-30</th>\n",
              "      <td>4586.321</td>\n",
              "    </tr>\n",
              "    <tr>\n",
              "      <th>2013-12-31</th>\n",
              "      <td>4403.178</td>\n",
              "    </tr>\n",
              "    <tr>\n",
              "      <th>2014-03-31</th>\n",
              "      <td>4532.342</td>\n",
              "    </tr>\n",
              "    <tr>\n",
              "      <th>2014-06-30</th>\n",
              "      <td>4616.610</td>\n",
              "    </tr>\n",
              "    <tr>\n",
              "      <th>2014-09-30</th>\n",
              "      <td>4709.584</td>\n",
              "    </tr>\n",
              "  </tbody>\n",
              "</table>\n",
              "</div>"
            ],
            "text/plain": [
              "                 GDP\n",
              "timestamp           \n",
              "2013-09-30  4586.321\n",
              "2013-12-31  4403.178\n",
              "2014-03-31  4532.342\n",
              "2014-06-30  4616.610\n",
              "2014-09-30  4709.584"
            ]
          },
          "execution_count": 44,
          "metadata": {},
          "output_type": "execute_result"
        }
      ],
      "source": [
        "gdp_df.sort_values(by = \"timestamp\", inplace = True)\n",
        "gdp_df.set_index(\"timestamp\", inplace = True)\n",
        "gdp_df.index = gdp_df.index.strftime(\"%Y-%m-%d\")\n",
        "print(f\"Shape of gdp_df: {gdp_df.shape}\")\n",
        "gdp_df.rename(columns = {\"value\": \"GDP\"}, inplace = True)\n",
        "gdp_df.head()"
      ]
    },
    {
      "cell_type": "markdown",
      "metadata": {
        "id": "jCI2x4hO7rF-"
      },
      "source": [
        "We will now retrive the Dederal Funds Rate (monthly) data:"
      ]
    },
    {
      "cell_type": "code",
      "execution_count": 45,
      "metadata": {
        "id": "BwBSorh-7vWJ"
      },
      "outputs": [],
      "source": [
        "url_fed_funds = f'https://www.alphavantage.co/query?function=FEDERAL_FUNDS_RATE&interval=monthly&apikey={api}&datatype=csv'\n",
        "data = requests.get(url_fed_funds)\n",
        "with open('fed_funds.csv', 'w') as f:\n",
        "    f.write(data.text)"
      ]
    },
    {
      "cell_type": "code",
      "execution_count": 46,
      "metadata": {
        "colab": {
          "base_uri": "https://localhost:8080/",
          "height": 206
        },
        "id": "Z2QNqNSL72VS",
        "outputId": "8ddf7807-6763-4cf0-9f69-ec0bdb89b9aa"
      },
      "outputs": [
        {
          "data": {
            "text/html": [
              "<div>\n",
              "<style scoped>\n",
              "    .dataframe tbody tr th:only-of-type {\n",
              "        vertical-align: middle;\n",
              "    }\n",
              "\n",
              "    .dataframe tbody tr th {\n",
              "        vertical-align: top;\n",
              "    }\n",
              "\n",
              "    .dataframe thead th {\n",
              "        text-align: right;\n",
              "    }\n",
              "</style>\n",
              "<table border=\"1\" class=\"dataframe\">\n",
              "  <thead>\n",
              "    <tr style=\"text-align: right;\">\n",
              "      <th></th>\n",
              "      <th>timestamp</th>\n",
              "      <th>value</th>\n",
              "    </tr>\n",
              "  </thead>\n",
              "  <tbody>\n",
              "    <tr>\n",
              "      <th>0</th>\n",
              "      <td>2024-11-01</td>\n",
              "      <td>4.64</td>\n",
              "    </tr>\n",
              "    <tr>\n",
              "      <th>1</th>\n",
              "      <td>2024-10-01</td>\n",
              "      <td>4.83</td>\n",
              "    </tr>\n",
              "    <tr>\n",
              "      <th>2</th>\n",
              "      <td>2024-09-01</td>\n",
              "      <td>5.13</td>\n",
              "    </tr>\n",
              "    <tr>\n",
              "      <th>3</th>\n",
              "      <td>2024-08-01</td>\n",
              "      <td>5.33</td>\n",
              "    </tr>\n",
              "    <tr>\n",
              "      <th>4</th>\n",
              "      <td>2024-07-01</td>\n",
              "      <td>5.33</td>\n",
              "    </tr>\n",
              "  </tbody>\n",
              "</table>\n",
              "</div>"
            ],
            "text/plain": [
              "    timestamp  value\n",
              "0  2024-11-01   4.64\n",
              "1  2024-10-01   4.83\n",
              "2  2024-09-01   5.13\n",
              "3  2024-08-01   5.33\n",
              "4  2024-07-01   5.33"
            ]
          },
          "execution_count": 46,
          "metadata": {},
          "output_type": "execute_result"
        }
      ],
      "source": [
        "with open('fed_funds.csv', 'r') as f:\n",
        "    fed_funds_df = pd.read_csv(f) # open the saved csv file\n",
        "fed_funds_df.head()"
      ]
    },
    {
      "cell_type": "code",
      "execution_count": 47,
      "metadata": {
        "id": "brXV-oYs8JpT"
      },
      "outputs": [],
      "source": [
        "# convert the timestamp column to datetime objects\n",
        "fed_funds_df[\"timestamp\"] = pd.to_datetime(fed_funds_df[\"timestamp\"])"
      ]
    },
    {
      "cell_type": "code",
      "execution_count": 48,
      "metadata": {
        "colab": {
          "base_uri": "https://localhost:8080/"
        },
        "id": "vcwWvqWt8W-o",
        "outputId": "e1bcdd8b-4046-46ef-f78f-cd68607d7687"
      },
      "outputs": [
        {
          "name": "stderr",
          "output_type": "stream",
          "text": [
            "/var/folders/zh/2l0pp8jn6kd80mywh4f4vlmr0000gn/T/ipykernel_59892/2126813508.py:3: FutureWarning: 'Q' is deprecated and will be removed in a future version, please use 'QE' instead.\n",
            "  fed_funds_df = fed_funds_df.resample(\"Q\").mean()\n"
          ]
        }
      ],
      "source": [
        "# make timestamp the index and take the average interest rate per quarter\n",
        "fed_funds_df.set_index(\"timestamp\", inplace = True)\n",
        "fed_funds_df = fed_funds_df.resample(\"Q\").mean()"
      ]
    },
    {
      "cell_type": "code",
      "execution_count": 49,
      "metadata": {
        "id": "9lAtWkbM8pdK"
      },
      "outputs": [],
      "source": [
        "# Masking the data to get the desired range of data.\n",
        "mask = (fed_funds_df.index >= start_date) & (fed_funds_df.index <= end_date)\n",
        "fed_funds_df = fed_funds_df[mask]"
      ]
    },
    {
      "cell_type": "code",
      "execution_count": 50,
      "metadata": {
        "colab": {
          "base_uri": "https://localhost:8080/",
          "height": 255
        },
        "id": "trulkMuJ80pk",
        "outputId": "b2e01cf8-32d8-4071-8300-aaacec61ec22"
      },
      "outputs": [
        {
          "name": "stdout",
          "output_type": "stream",
          "text": [
            "Shape of fed_funds_df: (43, 1)\n"
          ]
        },
        {
          "data": {
            "text/html": [
              "<div>\n",
              "<style scoped>\n",
              "    .dataframe tbody tr th:only-of-type {\n",
              "        vertical-align: middle;\n",
              "    }\n",
              "\n",
              "    .dataframe tbody tr th {\n",
              "        vertical-align: top;\n",
              "    }\n",
              "\n",
              "    .dataframe thead th {\n",
              "        text-align: right;\n",
              "    }\n",
              "</style>\n",
              "<table border=\"1\" class=\"dataframe\">\n",
              "  <thead>\n",
              "    <tr style=\"text-align: right;\">\n",
              "      <th></th>\n",
              "      <th>Fed_Funds_Rate</th>\n",
              "    </tr>\n",
              "    <tr>\n",
              "      <th>timestamp</th>\n",
              "      <th></th>\n",
              "    </tr>\n",
              "  </thead>\n",
              "  <tbody>\n",
              "    <tr>\n",
              "      <th>2013-09-30</th>\n",
              "      <td>0.083333</td>\n",
              "    </tr>\n",
              "    <tr>\n",
              "      <th>2013-12-31</th>\n",
              "      <td>0.086667</td>\n",
              "    </tr>\n",
              "    <tr>\n",
              "      <th>2014-03-31</th>\n",
              "      <td>0.073333</td>\n",
              "    </tr>\n",
              "    <tr>\n",
              "      <th>2014-06-30</th>\n",
              "      <td>0.093333</td>\n",
              "    </tr>\n",
              "    <tr>\n",
              "      <th>2014-09-30</th>\n",
              "      <td>0.090000</td>\n",
              "    </tr>\n",
              "  </tbody>\n",
              "</table>\n",
              "</div>"
            ],
            "text/plain": [
              "            Fed_Funds_Rate\n",
              "timestamp                 \n",
              "2013-09-30        0.083333\n",
              "2013-12-31        0.086667\n",
              "2014-03-31        0.073333\n",
              "2014-06-30        0.093333\n",
              "2014-09-30        0.090000"
            ]
          },
          "execution_count": 50,
          "metadata": {},
          "output_type": "execute_result"
        }
      ],
      "source": [
        "fed_funds_df.sort_values(by = \"timestamp\", inplace = True)\n",
        "print(f\"Shape of fed_funds_df: {fed_funds_df.shape}\")\n",
        "fed_funds_df.index = fed_funds_df.index.strftime(\"%Y-%m-%d\")\n",
        "fed_funds_df.rename(columns = {\"value\": \"Fed_Funds_Rate\"}, inplace = True)\n",
        "fed_funds_df.head()"
      ]
    },
    {
      "cell_type": "markdown",
      "metadata": {
        "id": "GtLyAxEB8_Vk"
      },
      "source": [
        "Finally, we will get the CPI data from Alpha Vantage"
      ]
    },
    {
      "cell_type": "code",
      "execution_count": 51,
      "metadata": {
        "id": "045K5Nn-9Wsh"
      },
      "outputs": [],
      "source": [
        "# Url to retrieve the Consumer Price Index (CPI) data from Alpha Vantage.\n",
        "url_cpi = f'https://www.alphavantage.co/query?function=CPI&interval=monthly&apikey={api}&datatype=csv'\n",
        "data = requests.get(url_cpi)\n",
        "with open('monthly_cpi.csv', 'w') as f:\n",
        "    f.write(data.text)"
      ]
    },
    {
      "cell_type": "code",
      "execution_count": 52,
      "metadata": {
        "colab": {
          "base_uri": "https://localhost:8080/",
          "height": 143
        },
        "id": "NKfcl-2L9ddD",
        "outputId": "6bbca9c7-f93d-4664-9b67-4a15ab9adc8b"
      },
      "outputs": [
        {
          "data": {
            "text/html": [
              "<div>\n",
              "<style scoped>\n",
              "    .dataframe tbody tr th:only-of-type {\n",
              "        vertical-align: middle;\n",
              "    }\n",
              "\n",
              "    .dataframe tbody tr th {\n",
              "        vertical-align: top;\n",
              "    }\n",
              "\n",
              "    .dataframe thead th {\n",
              "        text-align: right;\n",
              "    }\n",
              "</style>\n",
              "<table border=\"1\" class=\"dataframe\">\n",
              "  <thead>\n",
              "    <tr style=\"text-align: right;\">\n",
              "      <th></th>\n",
              "      <th>timestamp</th>\n",
              "      <th>value</th>\n",
              "    </tr>\n",
              "  </thead>\n",
              "  <tbody>\n",
              "    <tr>\n",
              "      <th>0</th>\n",
              "      <td>2024-11-01</td>\n",
              "      <td>315.493</td>\n",
              "    </tr>\n",
              "    <tr>\n",
              "      <th>1</th>\n",
              "      <td>2024-10-01</td>\n",
              "      <td>315.664</td>\n",
              "    </tr>\n",
              "    <tr>\n",
              "      <th>2</th>\n",
              "      <td>2024-09-01</td>\n",
              "      <td>315.301</td>\n",
              "    </tr>\n",
              "  </tbody>\n",
              "</table>\n",
              "</div>"
            ],
            "text/plain": [
              "    timestamp    value\n",
              "0  2024-11-01  315.493\n",
              "1  2024-10-01  315.664\n",
              "2  2024-09-01  315.301"
            ]
          },
          "execution_count": 52,
          "metadata": {},
          "output_type": "execute_result"
        }
      ],
      "source": [
        "with open('monthly_cpi.csv', 'r') as f:\n",
        "    cpi_df = pd.read_csv(f) # open the saved csv file\n",
        "cpi_df.head(3)"
      ]
    },
    {
      "cell_type": "code",
      "execution_count": 53,
      "metadata": {
        "colab": {
          "base_uri": "https://localhost:8080/",
          "height": 247
        },
        "id": "oEqhtzoq9hYm",
        "outputId": "0909f756-2f58-4263-cf44-52feb64985bc"
      },
      "outputs": [
        {
          "name": "stdout",
          "output_type": "stream",
          "text": [
            "Shape of the dataframe: (43, 1)\n"
          ]
        },
        {
          "name": "stderr",
          "output_type": "stream",
          "text": [
            "/var/folders/zh/2l0pp8jn6kd80mywh4f4vlmr0000gn/T/ipykernel_59892/882819905.py:5: FutureWarning: 'Q' is deprecated and will be removed in a future version, please use 'QE' instead.\n",
            "  cpi_df = cpi_df.resample(\"Q\").mean() # resampling the data to quarterly frequency and taking the mean of each quarter.\n"
          ]
        },
        {
          "data": {
            "text/html": [
              "<div>\n",
              "<style scoped>\n",
              "    .dataframe tbody tr th:only-of-type {\n",
              "        vertical-align: middle;\n",
              "    }\n",
              "\n",
              "    .dataframe tbody tr th {\n",
              "        vertical-align: top;\n",
              "    }\n",
              "\n",
              "    .dataframe thead th {\n",
              "        text-align: right;\n",
              "    }\n",
              "</style>\n",
              "<table border=\"1\" class=\"dataframe\">\n",
              "  <thead>\n",
              "    <tr style=\"text-align: right;\">\n",
              "      <th></th>\n",
              "      <th>CPI</th>\n",
              "    </tr>\n",
              "    <tr>\n",
              "      <th>timestamp</th>\n",
              "      <th></th>\n",
              "    </tr>\n",
              "  </thead>\n",
              "  <tbody>\n",
              "    <tr>\n",
              "      <th>2013-09-30</th>\n",
              "      <td>233.874000</td>\n",
              "    </tr>\n",
              "    <tr>\n",
              "      <th>2013-12-31</th>\n",
              "      <td>233.221333</td>\n",
              "    </tr>\n",
              "    <tr>\n",
              "      <th>2014-03-31</th>\n",
              "      <td>234.996667</td>\n",
              "    </tr>\n",
              "  </tbody>\n",
              "</table>\n",
              "</div>"
            ],
            "text/plain": [
              "                   CPI\n",
              "timestamp             \n",
              "2013-09-30  233.874000\n",
              "2013-12-31  233.221333\n",
              "2014-03-31  234.996667"
            ]
          },
          "execution_count": 53,
          "metadata": {},
          "output_type": "execute_result"
        }
      ],
      "source": [
        "# Performing similar operations as before.\n",
        "cpi_df[\"timestamp\"] = pd.to_datetime(cpi_df[\"timestamp\"])\n",
        "cpi_df.set_index(\"timestamp\", inplace = True)\n",
        "cpi_df.sort_values(by = \"timestamp\", inplace = True)\n",
        "cpi_df = cpi_df.resample(\"Q\").mean() # resampling the data to quarterly frequency and taking the mean of each quarter.\n",
        "# Masking the data to get the desired range of data.\n",
        "mask = (cpi_df.index >= start_date) & (cpi_df.index <= end_date)\n",
        "cpi_df = cpi_df[mask]\n",
        "print(f\"Shape of the dataframe: {cpi_df.shape}\")\n",
        "cpi_df.index = cpi_df.index.strftime(\"%Y-%m-%d\")\n",
        "cpi_df.rename(columns = {\"value\": \"CPI\"}, inplace = True)\n",
        "cpi_df.head(3)"
      ]
    },
    {
      "cell_type": "code",
      "execution_count": 54,
      "metadata": {
        "colab": {
          "base_uri": "https://localhost:8080/",
          "height": 237
        },
        "id": "q7ye6Mjj-QEX",
        "outputId": "d3f60950-7cc8-43bc-a1c9-56910001edcb"
      },
      "outputs": [
        {
          "data": {
            "text/html": [
              "<div>\n",
              "<style scoped>\n",
              "    .dataframe tbody tr th:only-of-type {\n",
              "        vertical-align: middle;\n",
              "    }\n",
              "\n",
              "    .dataframe tbody tr th {\n",
              "        vertical-align: top;\n",
              "    }\n",
              "\n",
              "    .dataframe thead th {\n",
              "        text-align: right;\n",
              "    }\n",
              "</style>\n",
              "<table border=\"1\" class=\"dataframe\">\n",
              "  <thead>\n",
              "    <tr style=\"text-align: right;\">\n",
              "      <th></th>\n",
              "      <th>GDP</th>\n",
              "      <th>Fed_Funds_Rate</th>\n",
              "      <th>CPI</th>\n",
              "    </tr>\n",
              "    <tr>\n",
              "      <th>timestamp</th>\n",
              "      <th></th>\n",
              "      <th></th>\n",
              "      <th></th>\n",
              "    </tr>\n",
              "  </thead>\n",
              "  <tbody>\n",
              "    <tr>\n",
              "      <th>2013-09-30</th>\n",
              "      <td>4586.321</td>\n",
              "      <td>0.083333</td>\n",
              "      <td>233.874000</td>\n",
              "    </tr>\n",
              "    <tr>\n",
              "      <th>2013-12-31</th>\n",
              "      <td>4403.178</td>\n",
              "      <td>0.086667</td>\n",
              "      <td>233.221333</td>\n",
              "    </tr>\n",
              "    <tr>\n",
              "      <th>2014-03-31</th>\n",
              "      <td>4532.342</td>\n",
              "      <td>0.073333</td>\n",
              "      <td>234.996667</td>\n",
              "    </tr>\n",
              "    <tr>\n",
              "      <th>2014-06-30</th>\n",
              "      <td>4616.610</td>\n",
              "      <td>0.093333</td>\n",
              "      <td>237.771667</td>\n",
              "    </tr>\n",
              "    <tr>\n",
              "      <th>2014-09-30</th>\n",
              "      <td>4709.584</td>\n",
              "      <td>0.090000</td>\n",
              "      <td>238.044333</td>\n",
              "    </tr>\n",
              "  </tbody>\n",
              "</table>\n",
              "</div>"
            ],
            "text/plain": [
              "                 GDP  Fed_Funds_Rate         CPI\n",
              "timestamp                                       \n",
              "2013-09-30  4586.321        0.083333  233.874000\n",
              "2013-12-31  4403.178        0.086667  233.221333\n",
              "2014-03-31  4532.342        0.073333  234.996667\n",
              "2014-06-30  4616.610        0.093333  237.771667\n",
              "2014-09-30  4709.584        0.090000  238.044333"
            ]
          },
          "execution_count": 54,
          "metadata": {},
          "output_type": "execute_result"
        }
      ],
      "source": [
        "# merge all of them into one dataframe with the name: economic_df\n",
        "economic_df = pd.concat([gdp_df, fed_funds_df, cpi_df], axis = 1)\n",
        "economic_df.head()"
      ]
    },
    {
      "cell_type": "markdown",
      "metadata": {},
      "source": [
        "Ultimately, we are ready to merge the company specific data, stored in `apple_df`, with the economic data, stored in `economic_df`. All data is quarterly in nature!"
      ]
    },
    {
      "cell_type": "code",
      "execution_count": 55,
      "metadata": {
        "id": "eGYB0jZr-m1J"
      },
      "outputs": [],
      "source": [
        "# merge the economic_df with the apple_df\n",
        "apple_df = pd.concat([apple_df, economic_df], axis = 1)"
      ]
    },
    {
      "cell_type": "code",
      "execution_count": 56,
      "metadata": {},
      "outputs": [
        {
          "data": {
            "text/html": [
              "<div>\n",
              "<style scoped>\n",
              "    .dataframe tbody tr th:only-of-type {\n",
              "        vertical-align: middle;\n",
              "    }\n",
              "\n",
              "    .dataframe tbody tr th {\n",
              "        vertical-align: top;\n",
              "    }\n",
              "\n",
              "    .dataframe thead th {\n",
              "        text-align: right;\n",
              "    }\n",
              "</style>\n",
              "<table border=\"1\" class=\"dataframe\">\n",
              "  <thead>\n",
              "    <tr style=\"text-align: right;\">\n",
              "      <th></th>\n",
              "      <th>Close</th>\n",
              "      <th>Volume</th>\n",
              "      <th>reportedEPS</th>\n",
              "      <th>totalRevenue</th>\n",
              "      <th>netIncome</th>\n",
              "      <th>Dividends</th>\n",
              "      <th>GDP</th>\n",
              "      <th>Fed_Funds_Rate</th>\n",
              "      <th>CPI</th>\n",
              "    </tr>\n",
              "  </thead>\n",
              "  <tbody>\n",
              "    <tr>\n",
              "      <th>2013-09-30</th>\n",
              "      <td>17.026787</td>\n",
              "      <td>3.629280e+08</td>\n",
              "      <td>0.2950</td>\n",
              "      <td>3.747200e+10</td>\n",
              "      <td>7.512000e+09</td>\n",
              "      <td>0.108929</td>\n",
              "      <td>4586.321</td>\n",
              "      <td>0.083333</td>\n",
              "      <td>233.874000</td>\n",
              "    </tr>\n",
              "    <tr>\n",
              "      <th>2013-12-31</th>\n",
              "      <td>20.036428</td>\n",
              "      <td>3.143794e+08</td>\n",
              "      <td>0.5175</td>\n",
              "      <td>5.751000e+10</td>\n",
              "      <td>1.307200e+10</td>\n",
              "      <td>0.108929</td>\n",
              "      <td>4403.178</td>\n",
              "      <td>0.086667</td>\n",
              "      <td>233.221333</td>\n",
              "    </tr>\n",
              "    <tr>\n",
              "      <th>2014-03-31</th>\n",
              "      <td>19.169287</td>\n",
              "      <td>3.220987e+08</td>\n",
              "      <td>0.4150</td>\n",
              "      <td>4.556100e+10</td>\n",
              "      <td>1.022300e+10</td>\n",
              "      <td>0.108929</td>\n",
              "      <td>4532.342</td>\n",
              "      <td>0.073333</td>\n",
              "      <td>234.996667</td>\n",
              "    </tr>\n",
              "    <tr>\n",
              "      <th>2014-06-30</th>\n",
              "      <td>23.232500</td>\n",
              "      <td>2.698170e+08</td>\n",
              "      <td>0.3200</td>\n",
              "      <td>3.733200e+10</td>\n",
              "      <td>7.748000e+09</td>\n",
              "      <td>0.117500</td>\n",
              "      <td>4616.610</td>\n",
              "      <td>0.093333</td>\n",
              "      <td>237.771667</td>\n",
              "    </tr>\n",
              "    <tr>\n",
              "      <th>2014-09-30</th>\n",
              "      <td>25.187500</td>\n",
              "      <td>2.186614e+08</td>\n",
              "      <td>0.3550</td>\n",
              "      <td>4.212300e+10</td>\n",
              "      <td>8.467000e+09</td>\n",
              "      <td>0.117500</td>\n",
              "      <td>4709.584</td>\n",
              "      <td>0.090000</td>\n",
              "      <td>238.044333</td>\n",
              "    </tr>\n",
              "  </tbody>\n",
              "</table>\n",
              "</div>"
            ],
            "text/plain": [
              "                Close        Volume  reportedEPS  totalRevenue     netIncome  \\\n",
              "2013-09-30  17.026787  3.629280e+08       0.2950  3.747200e+10  7.512000e+09   \n",
              "2013-12-31  20.036428  3.143794e+08       0.5175  5.751000e+10  1.307200e+10   \n",
              "2014-03-31  19.169287  3.220987e+08       0.4150  4.556100e+10  1.022300e+10   \n",
              "2014-06-30  23.232500  2.698170e+08       0.3200  3.733200e+10  7.748000e+09   \n",
              "2014-09-30  25.187500  2.186614e+08       0.3550  4.212300e+10  8.467000e+09   \n",
              "\n",
              "            Dividends       GDP  Fed_Funds_Rate         CPI  \n",
              "2013-09-30   0.108929  4586.321        0.083333  233.874000  \n",
              "2013-12-31   0.108929  4403.178        0.086667  233.221333  \n",
              "2014-03-31   0.108929  4532.342        0.073333  234.996667  \n",
              "2014-06-30   0.117500  4616.610        0.093333  237.771667  \n",
              "2014-09-30   0.117500  4709.584        0.090000  238.044333  "
            ]
          },
          "execution_count": 56,
          "metadata": {},
          "output_type": "execute_result"
        }
      ],
      "source": [
        "apple_df.head()"
      ]
    },
    {
      "cell_type": "markdown",
      "metadata": {},
      "source": [
        "# Feature Engineering\n",
        "\n",
        "What is __Feature Engineering__?\n",
        "Feature engineering is the process of using domain knowledge to extract features from existing data to further enhance the information and find patters intermingling with our target variable. These features can be used to improve the performance of machine learning algorithms.\n",
        "\n",
        "Some features, thanks to our domain knowledge, that we have selected are as follows:\n",
        "\n",
        "1. **Dividend Yield**: The dividend yield is the annual dividend per share divided by the price per share. It is a financial ratio that shows how much a company pays out in dividends each year relative to its stock price - thus affecting the stock price.\n",
        "2. **Divident Payout Ratio**: The dividend payout ratio is the ratio of the total amount of dividends paid out to shareholders relative to the net income of the company. It is also calculated as the dividend per share divided by the earnings per share.\n",
        "3. **Price to Earnings Ratio**: The price to earnings ratio (P/E ratio) is the ratio for valuing a company that measures its current share price relative to its per-share earnings. It is also known as the price multiple or the earnings multiple.\n",
        "4. **Relative close change from the previous quarter**: The relative close change from the previous quarter is the percentage change in the stock price from the previous quarter.\n",
        "5. **Relative volume change from the previous quarter**: The relative volume change from the previous quarter is the percentage change in the volume of stocks traded from the previous quarter.\n",
        "6. **Relative GDP change from the previous quarter**: The relative GDP change from the previous quarter is the percentage change in the GDP from the previous quarter.\n",
        "7. **Relative Federal Funds Rate change from the previous quarter**: The relative Federal Funds Rate change from the previous quarter is the percentage change in the Federal Funds Rate from the previous quarter.\n",
        "8. **Relative Close change for the next quarter**: The relative Close change for the next quarter is the percentage change in the stock price from the current quarter to the next quarter - `our target variable`.\n"
      ]
    },
    {
      "cell_type": "code",
      "execution_count": 57,
      "metadata": {},
      "outputs": [],
      "source": [
        "# Dividend yield = dividends per share / Market value per share * 100\n",
        "apple_df[\"Dividend_Yield\"] = apple_df[\"Dividends\"] / apple_df[\"Close\"] * 100"
      ]
    },
    {
      "cell_type": "code",
      "execution_count": 58,
      "metadata": {},
      "outputs": [],
      "source": [
        "# dividends per share / earnings per share\n",
        "apple_df[\"Dividend_payout\"] = apple_df[\"Dividends\"] / apple_df[\"reportedEPS\"]"
      ]
    },
    {
      "cell_type": "code",
      "execution_count": 59,
      "metadata": {},
      "outputs": [],
      "source": [
        "# Price to Earnings ratio = Market value per share / Earnings per share\n",
        "apple_df[\"PE_Ratio\"] = apple_df[\"Close\"] / apple_df[\"reportedEPS\"]"
      ]
    },
    {
      "cell_type": "code",
      "execution_count": 60,
      "metadata": {},
      "outputs": [],
      "source": [
        "apple_df[\"relative_close_change_from_the_last_quarter\"] = apple_df[\"Close\"].pct_change()"
      ]
    },
    {
      "cell_type": "code",
      "execution_count": 61,
      "metadata": {},
      "outputs": [],
      "source": [
        "apple_df[\"relative_volume_change_from_the_last_quarter\"] = apple_df[\"Volume\"].pct_change()\n",
        "apple_df[\"relative_gdp_change_from_the_last_quarter\"] = apple_df[\"GDP\"].pct_change()\n",
        "apple_df[\"relative_interest_change_from_the_last_quarter\"] = apple_df[\"Fed_Funds_Rate\"].pct_change()"
      ]
    },
    {
      "cell_type": "code",
      "execution_count": 62,
      "metadata": {},
      "outputs": [],
      "source": [
        "apple_df[\"relative_close_change_for_next_quarter\"] = apple_df[\"relative_close_change_from_the_last_quarter\"].shift(-1)"
      ]
    },
    {
      "cell_type": "code",
      "execution_count": 63,
      "metadata": {},
      "outputs": [
        {
          "data": {
            "text/html": [
              "<div>\n",
              "<style scoped>\n",
              "    .dataframe tbody tr th:only-of-type {\n",
              "        vertical-align: middle;\n",
              "    }\n",
              "\n",
              "    .dataframe tbody tr th {\n",
              "        vertical-align: top;\n",
              "    }\n",
              "\n",
              "    .dataframe thead th {\n",
              "        text-align: right;\n",
              "    }\n",
              "</style>\n",
              "<table border=\"1\" class=\"dataframe\">\n",
              "  <thead>\n",
              "    <tr style=\"text-align: right;\">\n",
              "      <th></th>\n",
              "      <th>Close</th>\n",
              "      <th>Volume</th>\n",
              "      <th>reportedEPS</th>\n",
              "      <th>totalRevenue</th>\n",
              "      <th>netIncome</th>\n",
              "      <th>Dividends</th>\n",
              "      <th>GDP</th>\n",
              "      <th>Fed_Funds_Rate</th>\n",
              "      <th>CPI</th>\n",
              "      <th>Dividend_Yield</th>\n",
              "      <th>Dividend_payout</th>\n",
              "      <th>PE_Ratio</th>\n",
              "      <th>relative_close_change_from_the_last_quarter</th>\n",
              "      <th>relative_volume_change_from_the_last_quarter</th>\n",
              "      <th>relative_gdp_change_from_the_last_quarter</th>\n",
              "      <th>relative_interest_change_from_the_last_quarter</th>\n",
              "      <th>relative_close_change_for_next_quarter</th>\n",
              "    </tr>\n",
              "  </thead>\n",
              "  <tbody>\n",
              "    <tr>\n",
              "      <th>2013-09-30</th>\n",
              "      <td>17.026787</td>\n",
              "      <td>3.629280e+08</td>\n",
              "      <td>0.2950</td>\n",
              "      <td>3.747200e+10</td>\n",
              "      <td>7.512000e+09</td>\n",
              "      <td>0.108929</td>\n",
              "      <td>4586.321</td>\n",
              "      <td>0.083333</td>\n",
              "      <td>233.874000</td>\n",
              "      <td>0.639751</td>\n",
              "      <td>0.369251</td>\n",
              "      <td>57.717921</td>\n",
              "      <td>NaN</td>\n",
              "      <td>NaN</td>\n",
              "      <td>NaN</td>\n",
              "      <td>NaN</td>\n",
              "      <td>0.176759</td>\n",
              "    </tr>\n",
              "    <tr>\n",
              "      <th>2013-12-31</th>\n",
              "      <td>20.036428</td>\n",
              "      <td>3.143794e+08</td>\n",
              "      <td>0.5175</td>\n",
              "      <td>5.751000e+10</td>\n",
              "      <td>1.307200e+10</td>\n",
              "      <td>0.108929</td>\n",
              "      <td>4403.178</td>\n",
              "      <td>0.086667</td>\n",
              "      <td>233.221333</td>\n",
              "      <td>0.543655</td>\n",
              "      <td>0.210491</td>\n",
              "      <td>38.717736</td>\n",
              "      <td>0.176759</td>\n",
              "      <td>-0.133769</td>\n",
              "      <td>-0.039932</td>\n",
              "      <td>0.040000</td>\n",
              "      <td>-0.043278</td>\n",
              "    </tr>\n",
              "    <tr>\n",
              "      <th>2014-03-31</th>\n",
              "      <td>19.169287</td>\n",
              "      <td>3.220987e+08</td>\n",
              "      <td>0.4150</td>\n",
              "      <td>4.556100e+10</td>\n",
              "      <td>1.022300e+10</td>\n",
              "      <td>0.108929</td>\n",
              "      <td>4532.342</td>\n",
              "      <td>0.073333</td>\n",
              "      <td>234.996667</td>\n",
              "      <td>0.568248</td>\n",
              "      <td>0.262480</td>\n",
              "      <td>46.191052</td>\n",
              "      <td>-0.043278</td>\n",
              "      <td>0.024554</td>\n",
              "      <td>0.029334</td>\n",
              "      <td>-0.153846</td>\n",
              "      <td>0.211965</td>\n",
              "    </tr>\n",
              "    <tr>\n",
              "      <th>2014-06-30</th>\n",
              "      <td>23.232500</td>\n",
              "      <td>2.698170e+08</td>\n",
              "      <td>0.3200</td>\n",
              "      <td>3.733200e+10</td>\n",
              "      <td>7.748000e+09</td>\n",
              "      <td>0.117500</td>\n",
              "      <td>4616.610</td>\n",
              "      <td>0.093333</td>\n",
              "      <td>237.771667</td>\n",
              "      <td>0.505757</td>\n",
              "      <td>0.367187</td>\n",
              "      <td>72.601563</td>\n",
              "      <td>0.211965</td>\n",
              "      <td>-0.162316</td>\n",
              "      <td>0.018593</td>\n",
              "      <td>0.272727</td>\n",
              "      <td>0.084149</td>\n",
              "    </tr>\n",
              "    <tr>\n",
              "      <th>2014-09-30</th>\n",
              "      <td>25.187500</td>\n",
              "      <td>2.186614e+08</td>\n",
              "      <td>0.3550</td>\n",
              "      <td>4.212300e+10</td>\n",
              "      <td>8.467000e+09</td>\n",
              "      <td>0.117500</td>\n",
              "      <td>4709.584</td>\n",
              "      <td>0.090000</td>\n",
              "      <td>238.044333</td>\n",
              "      <td>0.466501</td>\n",
              "      <td>0.330986</td>\n",
              "      <td>70.950704</td>\n",
              "      <td>0.084149</td>\n",
              "      <td>-0.189593</td>\n",
              "      <td>0.020139</td>\n",
              "      <td>-0.035714</td>\n",
              "      <td>0.095583</td>\n",
              "    </tr>\n",
              "  </tbody>\n",
              "</table>\n",
              "</div>"
            ],
            "text/plain": [
              "                Close        Volume  reportedEPS  totalRevenue     netIncome  \\\n",
              "2013-09-30  17.026787  3.629280e+08       0.2950  3.747200e+10  7.512000e+09   \n",
              "2013-12-31  20.036428  3.143794e+08       0.5175  5.751000e+10  1.307200e+10   \n",
              "2014-03-31  19.169287  3.220987e+08       0.4150  4.556100e+10  1.022300e+10   \n",
              "2014-06-30  23.232500  2.698170e+08       0.3200  3.733200e+10  7.748000e+09   \n",
              "2014-09-30  25.187500  2.186614e+08       0.3550  4.212300e+10  8.467000e+09   \n",
              "\n",
              "            Dividends       GDP  Fed_Funds_Rate         CPI  Dividend_Yield  \\\n",
              "2013-09-30   0.108929  4586.321        0.083333  233.874000        0.639751   \n",
              "2013-12-31   0.108929  4403.178        0.086667  233.221333        0.543655   \n",
              "2014-03-31   0.108929  4532.342        0.073333  234.996667        0.568248   \n",
              "2014-06-30   0.117500  4616.610        0.093333  237.771667        0.505757   \n",
              "2014-09-30   0.117500  4709.584        0.090000  238.044333        0.466501   \n",
              "\n",
              "            Dividend_payout   PE_Ratio  \\\n",
              "2013-09-30         0.369251  57.717921   \n",
              "2013-12-31         0.210491  38.717736   \n",
              "2014-03-31         0.262480  46.191052   \n",
              "2014-06-30         0.367187  72.601563   \n",
              "2014-09-30         0.330986  70.950704   \n",
              "\n",
              "            relative_close_change_from_the_last_quarter  \\\n",
              "2013-09-30                                          NaN   \n",
              "2013-12-31                                     0.176759   \n",
              "2014-03-31                                    -0.043278   \n",
              "2014-06-30                                     0.211965   \n",
              "2014-09-30                                     0.084149   \n",
              "\n",
              "            relative_volume_change_from_the_last_quarter  \\\n",
              "2013-09-30                                           NaN   \n",
              "2013-12-31                                     -0.133769   \n",
              "2014-03-31                                      0.024554   \n",
              "2014-06-30                                     -0.162316   \n",
              "2014-09-30                                     -0.189593   \n",
              "\n",
              "            relative_gdp_change_from_the_last_quarter  \\\n",
              "2013-09-30                                        NaN   \n",
              "2013-12-31                                  -0.039932   \n",
              "2014-03-31                                   0.029334   \n",
              "2014-06-30                                   0.018593   \n",
              "2014-09-30                                   0.020139   \n",
              "\n",
              "            relative_interest_change_from_the_last_quarter  \\\n",
              "2013-09-30                                             NaN   \n",
              "2013-12-31                                        0.040000   \n",
              "2014-03-31                                       -0.153846   \n",
              "2014-06-30                                        0.272727   \n",
              "2014-09-30                                       -0.035714   \n",
              "\n",
              "            relative_close_change_for_next_quarter  \n",
              "2013-09-30                                0.176759  \n",
              "2013-12-31                               -0.043278  \n",
              "2014-03-31                                0.211965  \n",
              "2014-06-30                                0.084149  \n",
              "2014-09-30                                0.095583  "
            ]
          },
          "execution_count": 63,
          "metadata": {},
          "output_type": "execute_result"
        }
      ],
      "source": [
        "apple_df.head()"
      ]
    },
    {
      "cell_type": "code",
      "execution_count": 64,
      "metadata": {},
      "outputs": [],
      "source": [
        "# We will drop the rows with missing values.\n",
        "apple_df.dropna(inplace = True)"
      ]
    },
    {
      "cell_type": "code",
      "execution_count": 65,
      "metadata": {},
      "outputs": [
        {
          "data": {
            "text/html": [
              "<div>\n",
              "<style scoped>\n",
              "    .dataframe tbody tr th:only-of-type {\n",
              "        vertical-align: middle;\n",
              "    }\n",
              "\n",
              "    .dataframe tbody tr th {\n",
              "        vertical-align: top;\n",
              "    }\n",
              "\n",
              "    .dataframe thead th {\n",
              "        text-align: right;\n",
              "    }\n",
              "</style>\n",
              "<table border=\"1\" class=\"dataframe\">\n",
              "  <thead>\n",
              "    <tr style=\"text-align: right;\">\n",
              "      <th></th>\n",
              "      <th>Close</th>\n",
              "      <th>Volume</th>\n",
              "      <th>reportedEPS</th>\n",
              "      <th>totalRevenue</th>\n",
              "      <th>netIncome</th>\n",
              "      <th>Dividends</th>\n",
              "      <th>GDP</th>\n",
              "      <th>Fed_Funds_Rate</th>\n",
              "      <th>CPI</th>\n",
              "      <th>Dividend_Yield</th>\n",
              "      <th>Dividend_payout</th>\n",
              "      <th>PE_Ratio</th>\n",
              "      <th>relative_close_change_from_the_last_quarter</th>\n",
              "      <th>relative_volume_change_from_the_last_quarter</th>\n",
              "      <th>relative_gdp_change_from_the_last_quarter</th>\n",
              "      <th>relative_interest_change_from_the_last_quarter</th>\n",
              "      <th>relative_close_change_for_next_quarter</th>\n",
              "    </tr>\n",
              "  </thead>\n",
              "  <tbody>\n",
              "    <tr>\n",
              "      <th>2013-12-31</th>\n",
              "      <td>20.036428</td>\n",
              "      <td>3.143794e+08</td>\n",
              "      <td>0.5175</td>\n",
              "      <td>5.751000e+10</td>\n",
              "      <td>1.307200e+10</td>\n",
              "      <td>0.108929</td>\n",
              "      <td>4403.178</td>\n",
              "      <td>0.086667</td>\n",
              "      <td>233.221333</td>\n",
              "      <td>0.543655</td>\n",
              "      <td>0.210491</td>\n",
              "      <td>38.717736</td>\n",
              "      <td>0.176759</td>\n",
              "      <td>-0.133769</td>\n",
              "      <td>-0.039932</td>\n",
              "      <td>0.040000</td>\n",
              "      <td>-0.043278</td>\n",
              "    </tr>\n",
              "    <tr>\n",
              "      <th>2014-03-31</th>\n",
              "      <td>19.169287</td>\n",
              "      <td>3.220987e+08</td>\n",
              "      <td>0.4150</td>\n",
              "      <td>4.556100e+10</td>\n",
              "      <td>1.022300e+10</td>\n",
              "      <td>0.108929</td>\n",
              "      <td>4532.342</td>\n",
              "      <td>0.073333</td>\n",
              "      <td>234.996667</td>\n",
              "      <td>0.568248</td>\n",
              "      <td>0.262480</td>\n",
              "      <td>46.191052</td>\n",
              "      <td>-0.043278</td>\n",
              "      <td>0.024554</td>\n",
              "      <td>0.029334</td>\n",
              "      <td>-0.153846</td>\n",
              "      <td>0.211965</td>\n",
              "    </tr>\n",
              "  </tbody>\n",
              "</table>\n",
              "</div>"
            ],
            "text/plain": [
              "                Close        Volume  reportedEPS  totalRevenue     netIncome  \\\n",
              "2013-12-31  20.036428  3.143794e+08       0.5175  5.751000e+10  1.307200e+10   \n",
              "2014-03-31  19.169287  3.220987e+08       0.4150  4.556100e+10  1.022300e+10   \n",
              "\n",
              "            Dividends       GDP  Fed_Funds_Rate         CPI  Dividend_Yield  \\\n",
              "2013-12-31   0.108929  4403.178        0.086667  233.221333        0.543655   \n",
              "2014-03-31   0.108929  4532.342        0.073333  234.996667        0.568248   \n",
              "\n",
              "            Dividend_payout   PE_Ratio  \\\n",
              "2013-12-31         0.210491  38.717736   \n",
              "2014-03-31         0.262480  46.191052   \n",
              "\n",
              "            relative_close_change_from_the_last_quarter  \\\n",
              "2013-12-31                                     0.176759   \n",
              "2014-03-31                                    -0.043278   \n",
              "\n",
              "            relative_volume_change_from_the_last_quarter  \\\n",
              "2013-12-31                                     -0.133769   \n",
              "2014-03-31                                      0.024554   \n",
              "\n",
              "            relative_gdp_change_from_the_last_quarter  \\\n",
              "2013-12-31                                  -0.039932   \n",
              "2014-03-31                                   0.029334   \n",
              "\n",
              "            relative_interest_change_from_the_last_quarter  \\\n",
              "2013-12-31                                        0.040000   \n",
              "2014-03-31                                       -0.153846   \n",
              "\n",
              "            relative_close_change_for_next_quarter  \n",
              "2013-12-31                               -0.043278  \n",
              "2014-03-31                                0.211965  "
            ]
          },
          "execution_count": 65,
          "metadata": {},
          "output_type": "execute_result"
        }
      ],
      "source": [
        "apple_df.head(2)"
      ]
    },
    {
      "cell_type": "code",
      "execution_count": 66,
      "metadata": {},
      "outputs": [
        {
          "data": {
            "text/html": [
              "<div>\n",
              "<style scoped>\n",
              "    .dataframe tbody tr th:only-of-type {\n",
              "        vertical-align: middle;\n",
              "    }\n",
              "\n",
              "    .dataframe tbody tr th {\n",
              "        vertical-align: top;\n",
              "    }\n",
              "\n",
              "    .dataframe thead th {\n",
              "        text-align: right;\n",
              "    }\n",
              "</style>\n",
              "<table border=\"1\" class=\"dataframe\">\n",
              "  <thead>\n",
              "    <tr style=\"text-align: right;\">\n",
              "      <th></th>\n",
              "      <th>Close</th>\n",
              "      <th>Volume</th>\n",
              "      <th>reportedEPS</th>\n",
              "      <th>totalRevenue</th>\n",
              "      <th>netIncome</th>\n",
              "      <th>Dividends</th>\n",
              "      <th>GDP</th>\n",
              "      <th>Fed_Funds_Rate</th>\n",
              "      <th>CPI</th>\n",
              "      <th>Dividend_Yield</th>\n",
              "      <th>Dividend_payout</th>\n",
              "      <th>PE_Ratio</th>\n",
              "      <th>relative_close_change_from_the_last_quarter</th>\n",
              "      <th>relative_volume_change_from_the_last_quarter</th>\n",
              "      <th>relative_gdp_change_from_the_last_quarter</th>\n",
              "      <th>relative_interest_change_from_the_last_quarter</th>\n",
              "      <th>relative_close_change_for_next_quarter</th>\n",
              "    </tr>\n",
              "  </thead>\n",
              "  <tbody>\n",
              "    <tr>\n",
              "      <th>2023-09-30</th>\n",
              "      <td>171.210007</td>\n",
              "      <td>5.803321e+07</td>\n",
              "      <td>1.46</td>\n",
              "      <td>8.849600e+10</td>\n",
              "      <td>2.295600e+10</td>\n",
              "      <td>0.24</td>\n",
              "      <td>5831.583</td>\n",
              "      <td>5.26</td>\n",
              "      <td>306.835333</td>\n",
              "      <td>0.140179</td>\n",
              "      <td>0.164384</td>\n",
              "      <td>117.267128</td>\n",
              "      <td>-0.117338</td>\n",
              "      <td>0.015837</td>\n",
              "      <td>0.018786</td>\n",
              "      <td>0.054108</td>\n",
              "      <td>0.124525</td>\n",
              "    </tr>\n",
              "    <tr>\n",
              "      <th>2023-12-31</th>\n",
              "      <td>192.529999</td>\n",
              "      <td>5.293779e+07</td>\n",
              "      <td>2.18</td>\n",
              "      <td>1.195750e+11</td>\n",
              "      <td>3.391600e+10</td>\n",
              "      <td>0.24</td>\n",
              "      <td>5638.455</td>\n",
              "      <td>5.33</td>\n",
              "      <td>307.156000</td>\n",
              "      <td>0.124656</td>\n",
              "      <td>0.110092</td>\n",
              "      <td>88.316513</td>\n",
              "      <td>0.124525</td>\n",
              "      <td>-0.087802</td>\n",
              "      <td>-0.033118</td>\n",
              "      <td>0.013308</td>\n",
              "      <td>-0.109334</td>\n",
              "    </tr>\n",
              "  </tbody>\n",
              "</table>\n",
              "</div>"
            ],
            "text/plain": [
              "                 Close        Volume  reportedEPS  totalRevenue     netIncome  \\\n",
              "2023-09-30  171.210007  5.803321e+07         1.46  8.849600e+10  2.295600e+10   \n",
              "2023-12-31  192.529999  5.293779e+07         2.18  1.195750e+11  3.391600e+10   \n",
              "\n",
              "            Dividends       GDP  Fed_Funds_Rate         CPI  Dividend_Yield  \\\n",
              "2023-09-30       0.24  5831.583            5.26  306.835333        0.140179   \n",
              "2023-12-31       0.24  5638.455            5.33  307.156000        0.124656   \n",
              "\n",
              "            Dividend_payout    PE_Ratio  \\\n",
              "2023-09-30         0.164384  117.267128   \n",
              "2023-12-31         0.110092   88.316513   \n",
              "\n",
              "            relative_close_change_from_the_last_quarter  \\\n",
              "2023-09-30                                    -0.117338   \n",
              "2023-12-31                                     0.124525   \n",
              "\n",
              "            relative_volume_change_from_the_last_quarter  \\\n",
              "2023-09-30                                      0.015837   \n",
              "2023-12-31                                     -0.087802   \n",
              "\n",
              "            relative_gdp_change_from_the_last_quarter  \\\n",
              "2023-09-30                                   0.018786   \n",
              "2023-12-31                                  -0.033118   \n",
              "\n",
              "            relative_interest_change_from_the_last_quarter  \\\n",
              "2023-09-30                                        0.054108   \n",
              "2023-12-31                                        0.013308   \n",
              "\n",
              "            relative_close_change_for_next_quarter  \n",
              "2023-09-30                                0.124525  \n",
              "2023-12-31                               -0.109334  "
            ]
          },
          "execution_count": 66,
          "metadata": {},
          "output_type": "execute_result"
        }
      ],
      "source": [
        "apple_df.tail(2)"
      ]
    },
    {
      "cell_type": "code",
      "execution_count": 67,
      "metadata": {},
      "outputs": [],
      "source": [
        "# Save the final dataframe to a csv file for reuse.\n",
        "apple_df.to_csv(\"apple_df.csv\")"
      ]
    },
    {
      "cell_type": "markdown",
      "metadata": {},
      "source": [
        "# EDA"
      ]
    },
    {
      "cell_type": "code",
      "execution_count": 108,
      "metadata": {},
      "outputs": [],
      "source": [
        "apple_df = pd.read_csv(\"apple_df.csv\")\n",
        "apple_df[\"Unnamed: 0\"] = pd.to_datetime(apple_df[\"Unnamed: 0\"])\n",
        "apple_df.set_index(\"Unnamed: 0\", inplace = True)\n",
        "apple_df.index.name = \"Quarter\""
      ]
    },
    {
      "cell_type": "code",
      "execution_count": 109,
      "metadata": {},
      "outputs": [
        {
          "data": {
            "text/html": [
              "<div>\n",
              "<style scoped>\n",
              "    .dataframe tbody tr th:only-of-type {\n",
              "        vertical-align: middle;\n",
              "    }\n",
              "\n",
              "    .dataframe tbody tr th {\n",
              "        vertical-align: top;\n",
              "    }\n",
              "\n",
              "    .dataframe thead th {\n",
              "        text-align: right;\n",
              "    }\n",
              "</style>\n",
              "<table border=\"1\" class=\"dataframe\">\n",
              "  <thead>\n",
              "    <tr style=\"text-align: right;\">\n",
              "      <th></th>\n",
              "      <th>Close</th>\n",
              "      <th>Volume</th>\n",
              "      <th>reportedEPS</th>\n",
              "      <th>totalRevenue</th>\n",
              "      <th>netIncome</th>\n",
              "      <th>Dividends</th>\n",
              "      <th>GDP</th>\n",
              "      <th>Fed_Funds_Rate</th>\n",
              "      <th>CPI</th>\n",
              "      <th>Dividend_Yield</th>\n",
              "      <th>Dividend_payout</th>\n",
              "      <th>PE_Ratio</th>\n",
              "      <th>relative_close_change_from_the_last_quarter</th>\n",
              "      <th>relative_volume_change_from_the_last_quarter</th>\n",
              "      <th>relative_gdp_change_from_the_last_quarter</th>\n",
              "      <th>relative_interest_change_from_the_last_quarter</th>\n",
              "      <th>relative_close_change_for_next_quarter</th>\n",
              "    </tr>\n",
              "  </thead>\n",
              "  <tbody>\n",
              "    <tr>\n",
              "      <th>count</th>\n",
              "      <td>41.000000</td>\n",
              "      <td>4.100000e+01</td>\n",
              "      <td>41.000000</td>\n",
              "      <td>4.100000e+01</td>\n",
              "      <td>4.100000e+01</td>\n",
              "      <td>41.000000</td>\n",
              "      <td>41.000000</td>\n",
              "      <td>41.000000</td>\n",
              "      <td>41.000000</td>\n",
              "      <td>41.000000</td>\n",
              "      <td>41.000000</td>\n",
              "      <td>41.000000</td>\n",
              "      <td>41.000000</td>\n",
              "      <td>41.000000</td>\n",
              "      <td>41.000000</td>\n",
              "      <td>41.000000</td>\n",
              "      <td>41.000000</td>\n",
              "    </tr>\n",
              "    <tr>\n",
              "      <th>mean</th>\n",
              "      <td>77.724042</td>\n",
              "      <td>1.411325e+08</td>\n",
              "      <td>0.915244</td>\n",
              "      <td>7.098351e+10</td>\n",
              "      <td>1.669595e+10</td>\n",
              "      <td>0.176777</td>\n",
              "      <td>5093.449805</td>\n",
              "      <td>1.248130</td>\n",
              "      <td>258.642626</td>\n",
              "      <td>0.329773</td>\n",
              "      <td>0.229774</td>\n",
              "      <td>79.745352</td>\n",
              "      <td>0.071773</td>\n",
              "      <td>-0.023370</td>\n",
              "      <td>0.005549</td>\n",
              "      <td>0.290415</td>\n",
              "      <td>0.064795</td>\n",
              "    </tr>\n",
              "    <tr>\n",
              "      <th>std</th>\n",
              "      <td>57.895454</td>\n",
              "      <td>6.662595e+07</td>\n",
              "      <td>0.501404</td>\n",
              "      <td>2.272415e+10</td>\n",
              "      <td>7.194130e+09</td>\n",
              "      <td>0.042808</td>\n",
              "      <td>374.189191</td>\n",
              "      <td>1.545590</td>\n",
              "      <td>22.831284</td>\n",
              "      <td>0.149553</td>\n",
              "      <td>0.081728</td>\n",
              "      <td>31.165462</td>\n",
              "      <td>0.151461</td>\n",
              "      <td>0.234780</td>\n",
              "      <td>0.031885</td>\n",
              "      <td>0.920387</td>\n",
              "      <td>0.153084</td>\n",
              "    </tr>\n",
              "    <tr>\n",
              "      <th>min</th>\n",
              "      <td>19.169287</td>\n",
              "      <td>5.293779e+07</td>\n",
              "      <td>0.320000</td>\n",
              "      <td>3.733200e+10</td>\n",
              "      <td>7.748000e+09</td>\n",
              "      <td>0.108929</td>\n",
              "      <td>4403.178000</td>\n",
              "      <td>0.060000</td>\n",
              "      <td>233.221333</td>\n",
              "      <td>0.123730</td>\n",
              "      <td>0.104762</td>\n",
              "      <td>32.091464</td>\n",
              "      <td>-0.301231</td>\n",
              "      <td>-0.331249</td>\n",
              "      <td>-0.056260</td>\n",
              "      <td>-0.952381</td>\n",
              "      <td>-0.301231</td>\n",
              "    </tr>\n",
              "    <tr>\n",
              "      <th>25%</th>\n",
              "      <td>28.955000</td>\n",
              "      <td>9.543165e+07</td>\n",
              "      <td>0.517500</td>\n",
              "      <td>5.289600e+10</td>\n",
              "      <td>1.102900e+10</td>\n",
              "      <td>0.142500</td>\n",
              "      <td>4783.855000</td>\n",
              "      <td>0.093333</td>\n",
              "      <td>240.169333</td>\n",
              "      <td>0.167826</td>\n",
              "      <td>0.161954</td>\n",
              "      <td>58.729999</td>\n",
              "      <td>-0.016670</td>\n",
              "      <td>-0.163313</td>\n",
              "      <td>-0.031256</td>\n",
              "      <td>-0.002774</td>\n",
              "      <td>-0.043278</td>\n",
              "    </tr>\n",
              "    <tr>\n",
              "      <th>50%</th>\n",
              "      <td>47.487499</td>\n",
              "      <td>1.134222e+08</td>\n",
              "      <td>0.730000</td>\n",
              "      <td>6.404000e+10</td>\n",
              "      <td>1.382200e+10</td>\n",
              "      <td>0.182500</td>\n",
              "      <td>5069.624000</td>\n",
              "      <td>0.450000</td>\n",
              "      <td>252.197000</td>\n",
              "      <td>0.375492</td>\n",
              "      <td>0.210491</td>\n",
              "      <td>74.454104</td>\n",
              "      <td>0.084149</td>\n",
              "      <td>-0.069828</td>\n",
              "      <td>0.014140</td>\n",
              "      <td>0.107486</td>\n",
              "      <td>0.070129</td>\n",
              "    </tr>\n",
              "    <tr>\n",
              "      <th>75%</th>\n",
              "      <td>132.690002</td>\n",
              "      <td>1.740667e+08</td>\n",
              "      <td>1.260000</td>\n",
              "      <td>8.829300e+10</td>\n",
              "      <td>2.072100e+10</td>\n",
              "      <td>0.220000</td>\n",
              "      <td>5360.970000</td>\n",
              "      <td>1.923333</td>\n",
              "      <td>269.315000</td>\n",
              "      <td>0.462787</td>\n",
              "      <td>0.294355</td>\n",
              "      <td>99.332029</td>\n",
              "      <td>0.176759</td>\n",
              "      <td>0.030378</td>\n",
              "      <td>0.027544</td>\n",
              "      <td>0.236314</td>\n",
              "      <td>0.176289</td>\n",
              "    </tr>\n",
              "    <tr>\n",
              "      <th>max</th>\n",
              "      <td>193.970001</td>\n",
              "      <td>3.220987e+08</td>\n",
              "      <td>2.180000</td>\n",
              "      <td>1.232510e+11</td>\n",
              "      <td>3.463000e+10</td>\n",
              "      <td>0.240000</td>\n",
              "      <td>5831.583000</td>\n",
              "      <td>5.330000</td>\n",
              "      <td>307.156000</td>\n",
              "      <td>0.596234</td>\n",
              "      <td>0.401408</td>\n",
              "      <td>158.643832</td>\n",
              "      <td>0.434583</td>\n",
              "      <td>0.908953</td>\n",
              "      <td>0.073387</td>\n",
              "      <td>5.416667</td>\n",
              "      <td>0.434583</td>\n",
              "    </tr>\n",
              "  </tbody>\n",
              "</table>\n",
              "</div>"
            ],
            "text/plain": [
              "            Close        Volume  reportedEPS  totalRevenue     netIncome  \\\n",
              "count   41.000000  4.100000e+01    41.000000  4.100000e+01  4.100000e+01   \n",
              "mean    77.724042  1.411325e+08     0.915244  7.098351e+10  1.669595e+10   \n",
              "std     57.895454  6.662595e+07     0.501404  2.272415e+10  7.194130e+09   \n",
              "min     19.169287  5.293779e+07     0.320000  3.733200e+10  7.748000e+09   \n",
              "25%     28.955000  9.543165e+07     0.517500  5.289600e+10  1.102900e+10   \n",
              "50%     47.487499  1.134222e+08     0.730000  6.404000e+10  1.382200e+10   \n",
              "75%    132.690002  1.740667e+08     1.260000  8.829300e+10  2.072100e+10   \n",
              "max    193.970001  3.220987e+08     2.180000  1.232510e+11  3.463000e+10   \n",
              "\n",
              "       Dividends          GDP  Fed_Funds_Rate         CPI  Dividend_Yield  \\\n",
              "count  41.000000    41.000000       41.000000   41.000000       41.000000   \n",
              "mean    0.176777  5093.449805        1.248130  258.642626        0.329773   \n",
              "std     0.042808   374.189191        1.545590   22.831284        0.149553   \n",
              "min     0.108929  4403.178000        0.060000  233.221333        0.123730   \n",
              "25%     0.142500  4783.855000        0.093333  240.169333        0.167826   \n",
              "50%     0.182500  5069.624000        0.450000  252.197000        0.375492   \n",
              "75%     0.220000  5360.970000        1.923333  269.315000        0.462787   \n",
              "max     0.240000  5831.583000        5.330000  307.156000        0.596234   \n",
              "\n",
              "       Dividend_payout    PE_Ratio  \\\n",
              "count        41.000000   41.000000   \n",
              "mean          0.229774   79.745352   \n",
              "std           0.081728   31.165462   \n",
              "min           0.104762   32.091464   \n",
              "25%           0.161954   58.729999   \n",
              "50%           0.210491   74.454104   \n",
              "75%           0.294355   99.332029   \n",
              "max           0.401408  158.643832   \n",
              "\n",
              "       relative_close_change_from_the_last_quarter  \\\n",
              "count                                    41.000000   \n",
              "mean                                      0.071773   \n",
              "std                                       0.151461   \n",
              "min                                      -0.301231   \n",
              "25%                                      -0.016670   \n",
              "50%                                       0.084149   \n",
              "75%                                       0.176759   \n",
              "max                                       0.434583   \n",
              "\n",
              "       relative_volume_change_from_the_last_quarter  \\\n",
              "count                                     41.000000   \n",
              "mean                                      -0.023370   \n",
              "std                                        0.234780   \n",
              "min                                       -0.331249   \n",
              "25%                                       -0.163313   \n",
              "50%                                       -0.069828   \n",
              "75%                                        0.030378   \n",
              "max                                        0.908953   \n",
              "\n",
              "       relative_gdp_change_from_the_last_quarter  \\\n",
              "count                                  41.000000   \n",
              "mean                                    0.005549   \n",
              "std                                     0.031885   \n",
              "min                                    -0.056260   \n",
              "25%                                    -0.031256   \n",
              "50%                                     0.014140   \n",
              "75%                                     0.027544   \n",
              "max                                     0.073387   \n",
              "\n",
              "       relative_interest_change_from_the_last_quarter  \\\n",
              "count                                       41.000000   \n",
              "mean                                         0.290415   \n",
              "std                                          0.920387   \n",
              "min                                         -0.952381   \n",
              "25%                                         -0.002774   \n",
              "50%                                          0.107486   \n",
              "75%                                          0.236314   \n",
              "max                                          5.416667   \n",
              "\n",
              "       relative_close_change_for_next_quarter  \n",
              "count                               41.000000  \n",
              "mean                                 0.064795  \n",
              "std                                  0.153084  \n",
              "min                                 -0.301231  \n",
              "25%                                 -0.043278  \n",
              "50%                                  0.070129  \n",
              "75%                                  0.176289  \n",
              "max                                  0.434583  "
            ]
          },
          "execution_count": 109,
          "metadata": {},
          "output_type": "execute_result"
        }
      ],
      "source": [
        "apple_df.describe()"
      ]
    },
    {
      "cell_type": "markdown",
      "metadata": {},
      "source": [
        "---"
      ]
    },
    {
      "cell_type": "markdown",
      "metadata": {},
      "source": [
        "##### Normalization for better convergence\n",
        "We will have to normalize the following columns to ensure that the model is not biased towards the columns with higher values. We will use StandardScaler (which assumes that the data is Normally distribued) and makes the features symmetric around 0, which is mathematically advantageous for models that rely on regularization (like ElasticNet). This ensures that all features contribute equally to the model without bias due to their scale or range."
      ]
    },
    {
      "cell_type": "code",
      "execution_count": 110,
      "metadata": {},
      "outputs": [
        {
          "data": {
            "text/html": [
              "<div>\n",
              "<style scoped>\n",
              "    .dataframe tbody tr th:only-of-type {\n",
              "        vertical-align: middle;\n",
              "    }\n",
              "\n",
              "    .dataframe tbody tr th {\n",
              "        vertical-align: top;\n",
              "    }\n",
              "\n",
              "    .dataframe thead th {\n",
              "        text-align: right;\n",
              "    }\n",
              "</style>\n",
              "<table border=\"1\" class=\"dataframe\">\n",
              "  <thead>\n",
              "    <tr style=\"text-align: right;\">\n",
              "      <th></th>\n",
              "      <th>Close</th>\n",
              "      <th>Volume</th>\n",
              "      <th>reportedEPS</th>\n",
              "      <th>totalRevenue</th>\n",
              "      <th>netIncome</th>\n",
              "      <th>Dividends</th>\n",
              "      <th>GDP</th>\n",
              "      <th>Fed_Funds_Rate</th>\n",
              "      <th>CPI</th>\n",
              "      <th>Dividend_Yield</th>\n",
              "      <th>Dividend_payout</th>\n",
              "      <th>PE_Ratio</th>\n",
              "      <th>relative_close_change_from_the_last_quarter</th>\n",
              "      <th>relative_volume_change_from_the_last_quarter</th>\n",
              "      <th>relative_gdp_change_from_the_last_quarter</th>\n",
              "      <th>relative_interest_change_from_the_last_quarter</th>\n",
              "      <th>relative_close_change_for_next_quarter</th>\n",
              "    </tr>\n",
              "    <tr>\n",
              "      <th>Quarter</th>\n",
              "      <th></th>\n",
              "      <th></th>\n",
              "      <th></th>\n",
              "      <th></th>\n",
              "      <th></th>\n",
              "      <th></th>\n",
              "      <th></th>\n",
              "      <th></th>\n",
              "      <th></th>\n",
              "      <th></th>\n",
              "      <th></th>\n",
              "      <th></th>\n",
              "      <th></th>\n",
              "      <th></th>\n",
              "      <th></th>\n",
              "      <th></th>\n",
              "      <th></th>\n",
              "    </tr>\n",
              "  </thead>\n",
              "  <tbody>\n",
              "    <tr>\n",
              "      <th>2013-12-31</th>\n",
              "      <td>-1.008788</td>\n",
              "      <td>2.632595</td>\n",
              "      <td>-0.803115</td>\n",
              "      <td>-0.600282</td>\n",
              "      <td>-0.509995</td>\n",
              "      <td>-1.604624</td>\n",
              "      <td>-1.867630</td>\n",
              "      <td>-0.760805</td>\n",
              "      <td>-1.127273</td>\n",
              "      <td>1.447912</td>\n",
              "      <td>-0.238881</td>\n",
              "      <td>-1.332799</td>\n",
              "      <td>0.701773</td>\n",
              "      <td>-0.476065</td>\n",
              "      <td>-1.444139</td>\n",
              "      <td>-0.275455</td>\n",
              "      <td>-0.043278</td>\n",
              "    </tr>\n",
              "    <tr>\n",
              "      <th>2014-03-31</th>\n",
              "      <td>-1.023952</td>\n",
              "      <td>2.749893</td>\n",
              "      <td>-1.010080</td>\n",
              "      <td>-1.132642</td>\n",
              "      <td>-0.910932</td>\n",
              "      <td>-1.604624</td>\n",
              "      <td>-1.518158</td>\n",
              "      <td>-0.769539</td>\n",
              "      <td>-1.048549</td>\n",
              "      <td>1.614397</td>\n",
              "      <td>0.405142</td>\n",
              "      <td>-1.090025</td>\n",
              "      <td>-0.769045</td>\n",
              "      <td>0.206659</td>\n",
              "      <td>0.755256</td>\n",
              "      <td>-0.488686</td>\n",
              "      <td>0.211965</td>\n",
              "    </tr>\n",
              "    <tr>\n",
              "      <th>2014-06-30</th>\n",
              "      <td>-0.952898</td>\n",
              "      <td>1.955440</td>\n",
              "      <td>-1.201902</td>\n",
              "      <td>-1.499267</td>\n",
              "      <td>-1.259236</td>\n",
              "      <td>-1.401918</td>\n",
              "      <td>-1.290159</td>\n",
              "      <td>-0.756438</td>\n",
              "      <td>-0.925495</td>\n",
              "      <td>1.191356</td>\n",
              "      <td>1.702239</td>\n",
              "      <td>-0.232069</td>\n",
              "      <td>0.937101</td>\n",
              "      <td>-0.599165</td>\n",
              "      <td>0.414181</td>\n",
              "      <td>-0.019456</td>\n",
              "      <td>0.084149</td>\n",
              "    </tr>\n",
              "    <tr>\n",
              "      <th>2014-09-30</th>\n",
              "      <td>-0.918711</td>\n",
              "      <td>1.178100</td>\n",
              "      <td>-1.131230</td>\n",
              "      <td>-1.285814</td>\n",
              "      <td>-1.158052</td>\n",
              "      <td>-1.401918</td>\n",
              "      <td>-1.038604</td>\n",
              "      <td>-0.758621</td>\n",
              "      <td>-0.913404</td>\n",
              "      <td>0.925608</td>\n",
              "      <td>1.253782</td>\n",
              "      <td>-0.285698</td>\n",
              "      <td>0.082732</td>\n",
              "      <td>-0.716792</td>\n",
              "      <td>0.463283</td>\n",
              "      <td>-0.358741</td>\n",
              "      <td>0.095583</td>\n",
              "    </tr>\n",
              "    <tr>\n",
              "      <th>2014-12-31</th>\n",
              "      <td>-0.876611</td>\n",
              "      <td>0.946082</td>\n",
              "      <td>-0.303369</td>\n",
              "      <td>0.155243</td>\n",
              "      <td>0.186895</td>\n",
              "      <td>-1.401918</td>\n",
              "      <td>-1.436883</td>\n",
              "      <td>-0.752071</td>\n",
              "      <td>-0.998204</td>\n",
              "      <td>0.650086</td>\n",
              "      <td>-0.943696</td>\n",
              "      <td>-1.418750</td>\n",
              "      <td>0.159159</td>\n",
              "      <td>-0.200338</td>\n",
              "      <td>-1.168641</td>\n",
              "      <td>-0.197233</td>\n",
              "      <td>0.127288</td>\n",
              "    </tr>\n",
              "  </tbody>\n",
              "</table>\n",
              "</div>"
            ],
            "text/plain": [
              "               Close    Volume  reportedEPS  totalRevenue  netIncome  \\\n",
              "Quarter                                                                \n",
              "2013-12-31 -1.008788  2.632595    -0.803115     -0.600282  -0.509995   \n",
              "2014-03-31 -1.023952  2.749893    -1.010080     -1.132642  -0.910932   \n",
              "2014-06-30 -0.952898  1.955440    -1.201902     -1.499267  -1.259236   \n",
              "2014-09-30 -0.918711  1.178100    -1.131230     -1.285814  -1.158052   \n",
              "2014-12-31 -0.876611  0.946082    -0.303369      0.155243   0.186895   \n",
              "\n",
              "            Dividends       GDP  Fed_Funds_Rate       CPI  Dividend_Yield  \\\n",
              "Quarter                                                                     \n",
              "2013-12-31  -1.604624 -1.867630       -0.760805 -1.127273        1.447912   \n",
              "2014-03-31  -1.604624 -1.518158       -0.769539 -1.048549        1.614397   \n",
              "2014-06-30  -1.401918 -1.290159       -0.756438 -0.925495        1.191356   \n",
              "2014-09-30  -1.401918 -1.038604       -0.758621 -0.913404        0.925608   \n",
              "2014-12-31  -1.401918 -1.436883       -0.752071 -0.998204        0.650086   \n",
              "\n",
              "            Dividend_payout  PE_Ratio  \\\n",
              "Quarter                                 \n",
              "2013-12-31        -0.238881 -1.332799   \n",
              "2014-03-31         0.405142 -1.090025   \n",
              "2014-06-30         1.702239 -0.232069   \n",
              "2014-09-30         1.253782 -0.285698   \n",
              "2014-12-31        -0.943696 -1.418750   \n",
              "\n",
              "            relative_close_change_from_the_last_quarter  \\\n",
              "Quarter                                                   \n",
              "2013-12-31                                     0.701773   \n",
              "2014-03-31                                    -0.769045   \n",
              "2014-06-30                                     0.937101   \n",
              "2014-09-30                                     0.082732   \n",
              "2014-12-31                                     0.159159   \n",
              "\n",
              "            relative_volume_change_from_the_last_quarter  \\\n",
              "Quarter                                                    \n",
              "2013-12-31                                     -0.476065   \n",
              "2014-03-31                                      0.206659   \n",
              "2014-06-30                                     -0.599165   \n",
              "2014-09-30                                     -0.716792   \n",
              "2014-12-31                                     -0.200338   \n",
              "\n",
              "            relative_gdp_change_from_the_last_quarter  \\\n",
              "Quarter                                                 \n",
              "2013-12-31                                  -1.444139   \n",
              "2014-03-31                                   0.755256   \n",
              "2014-06-30                                   0.414181   \n",
              "2014-09-30                                   0.463283   \n",
              "2014-12-31                                  -1.168641   \n",
              "\n",
              "            relative_interest_change_from_the_last_quarter  \\\n",
              "Quarter                                                      \n",
              "2013-12-31                                       -0.275455   \n",
              "2014-03-31                                       -0.488686   \n",
              "2014-06-30                                       -0.019456   \n",
              "2014-09-30                                       -0.358741   \n",
              "2014-12-31                                       -0.197233   \n",
              "\n",
              "            relative_close_change_for_next_quarter  \n",
              "Quarter                                             \n",
              "2013-12-31                               -0.043278  \n",
              "2014-03-31                                0.211965  \n",
              "2014-06-30                                0.084149  \n",
              "2014-09-30                                0.095583  \n",
              "2014-12-31                                0.127288  "
            ]
          },
          "execution_count": 110,
          "metadata": {},
          "output_type": "execute_result"
        }
      ],
      "source": [
        "from sklearn.preprocessing import StandardScaler\n",
        "\n",
        "scaler = StandardScaler()\n",
        "features = apple_df.drop(columns = \"relative_close_change_for_next_quarter\").columns\n",
        "apple_df[features] = scaler.fit_transform(apple_df[features])\n",
        "\n",
        "apple_df.head()"
      ]
    },
    {
      "cell_type": "code",
      "execution_count": 111,
      "metadata": {},
      "outputs": [
        {
          "data": {
            "text/html": [
              "<div>\n",
              "<style scoped>\n",
              "    .dataframe tbody tr th:only-of-type {\n",
              "        vertical-align: middle;\n",
              "    }\n",
              "\n",
              "    .dataframe tbody tr th {\n",
              "        vertical-align: top;\n",
              "    }\n",
              "\n",
              "    .dataframe thead th {\n",
              "        text-align: right;\n",
              "    }\n",
              "</style>\n",
              "<table border=\"1\" class=\"dataframe\">\n",
              "  <thead>\n",
              "    <tr style=\"text-align: right;\">\n",
              "      <th></th>\n",
              "      <th>Close</th>\n",
              "      <th>Volume</th>\n",
              "      <th>reportedEPS</th>\n",
              "      <th>totalRevenue</th>\n",
              "      <th>netIncome</th>\n",
              "      <th>Dividends</th>\n",
              "      <th>GDP</th>\n",
              "      <th>Fed_Funds_Rate</th>\n",
              "      <th>CPI</th>\n",
              "      <th>Dividend_Yield</th>\n",
              "      <th>Dividend_payout</th>\n",
              "      <th>PE_Ratio</th>\n",
              "      <th>relative_close_change_from_the_last_quarter</th>\n",
              "      <th>relative_volume_change_from_the_last_quarter</th>\n",
              "      <th>relative_gdp_change_from_the_last_quarter</th>\n",
              "      <th>relative_interest_change_from_the_last_quarter</th>\n",
              "      <th>relative_close_change_for_next_quarter</th>\n",
              "    </tr>\n",
              "  </thead>\n",
              "  <tbody>\n",
              "    <tr>\n",
              "      <th>count</th>\n",
              "      <td>4.100000e+01</td>\n",
              "      <td>4.100000e+01</td>\n",
              "      <td>4.100000e+01</td>\n",
              "      <td>4.100000e+01</td>\n",
              "      <td>4.100000e+01</td>\n",
              "      <td>4.100000e+01</td>\n",
              "      <td>4.100000e+01</td>\n",
              "      <td>4.100000e+01</td>\n",
              "      <td>4.100000e+01</td>\n",
              "      <td>4.100000e+01</td>\n",
              "      <td>4.100000e+01</td>\n",
              "      <td>4.100000e+01</td>\n",
              "      <td>4.100000e+01</td>\n",
              "      <td>4.100000e+01</td>\n",
              "      <td>4.100000e+01</td>\n",
              "      <td>4.100000e+01</td>\n",
              "      <td>41.000000</td>\n",
              "    </tr>\n",
              "    <tr>\n",
              "      <th>mean</th>\n",
              "      <td>1.191459e-16</td>\n",
              "      <td>1.787188e-16</td>\n",
              "      <td>1.841346e-16</td>\n",
              "      <td>1.191459e-16</td>\n",
              "      <td>-7.582011e-17</td>\n",
              "      <td>2.707861e-17</td>\n",
              "      <td>2.512895e-15</td>\n",
              "      <td>8.665155e-17</td>\n",
              "      <td>-7.582011e-16</td>\n",
              "      <td>-2.166289e-16</td>\n",
              "      <td>-5.632351e-16</td>\n",
              "      <td>6.769653e-18</td>\n",
              "      <td>7.852797e-17</td>\n",
              "      <td>1.624717e-17</td>\n",
              "      <td>-5.415722e-18</td>\n",
              "      <td>8.123583e-18</td>\n",
              "      <td>0.064795</td>\n",
              "    </tr>\n",
              "    <tr>\n",
              "      <th>std</th>\n",
              "      <td>1.012423e+00</td>\n",
              "      <td>1.012423e+00</td>\n",
              "      <td>1.012423e+00</td>\n",
              "      <td>1.012423e+00</td>\n",
              "      <td>1.012423e+00</td>\n",
              "      <td>1.012423e+00</td>\n",
              "      <td>1.012423e+00</td>\n",
              "      <td>1.012423e+00</td>\n",
              "      <td>1.012423e+00</td>\n",
              "      <td>1.012423e+00</td>\n",
              "      <td>1.012423e+00</td>\n",
              "      <td>1.012423e+00</td>\n",
              "      <td>1.012423e+00</td>\n",
              "      <td>1.012423e+00</td>\n",
              "      <td>1.012423e+00</td>\n",
              "      <td>1.012423e+00</td>\n",
              "      <td>0.153084</td>\n",
              "    </tr>\n",
              "    <tr>\n",
              "      <th>min</th>\n",
              "      <td>-1.023952e+00</td>\n",
              "      <td>-1.340174e+00</td>\n",
              "      <td>-1.201902e+00</td>\n",
              "      <td>-1.499267e+00</td>\n",
              "      <td>-1.259236e+00</td>\n",
              "      <td>-1.604624e+00</td>\n",
              "      <td>-1.867630e+00</td>\n",
              "      <td>-7.782726e-01</td>\n",
              "      <td>-1.127273e+00</td>\n",
              "      <td>-1.394839e+00</td>\n",
              "      <td>-1.548625e+00</td>\n",
              "      <td>-1.548056e+00</td>\n",
              "      <td>-2.493307e+00</td>\n",
              "      <td>-1.327643e+00</td>\n",
              "      <td>-1.962583e+00</td>\n",
              "      <td>-1.367072e+00</td>\n",
              "      <td>-0.301231</td>\n",
              "    </tr>\n",
              "    <tr>\n",
              "      <th>25%</th>\n",
              "      <td>-8.528285e-01</td>\n",
              "      <td>-6.944534e-01</td>\n",
              "      <td>-8.031145e-01</td>\n",
              "      <td>-8.058479e-01</td>\n",
              "      <td>-7.975045e-01</td>\n",
              "      <td>-8.106609e-01</td>\n",
              "      <td>-8.376534e-01</td>\n",
              "      <td>-7.564379e-01</td>\n",
              "      <td>-8.191735e-01</td>\n",
              "      <td>-1.096323e+00</td>\n",
              "      <td>-8.401471e-01</td>\n",
              "      <td>-6.826924e-01</td>\n",
              "      <td>-5.911816e-01</td>\n",
              "      <td>-6.034664e-01</td>\n",
              "      <td>-1.168641e+00</td>\n",
              "      <td>-3.225066e-01</td>\n",
              "      <td>-0.043278</td>\n",
              "    </tr>\n",
              "    <tr>\n",
              "      <th>50%</th>\n",
              "      <td>-5.287491e-01</td>\n",
              "      <td>-4.210759e-01</td>\n",
              "      <td>-3.740398e-01</td>\n",
              "      <td>-3.093524e-01</td>\n",
              "      <td>-4.044483e-01</td>\n",
              "      <td>1.353499e-01</td>\n",
              "      <td>-6.446415e-02</td>\n",
              "      <td>-5.228070e-01</td>\n",
              "      <td>-2.858227e-01</td>\n",
              "      <td>3.095028e-01</td>\n",
              "      <td>-2.388815e-01</td>\n",
              "      <td>-1.718884e-01</td>\n",
              "      <td>8.273180e-02</td>\n",
              "      <td>-2.003377e-01</td>\n",
              "      <td>2.728127e-01</td>\n",
              "      <td>-2.012214e-01</td>\n",
              "      <td>0.070129</td>\n",
              "    </tr>\n",
              "    <tr>\n",
              "      <th>75%</th>\n",
              "      <td>9.611945e-01</td>\n",
              "      <td>5.004558e-01</td>\n",
              "      <td>6.961229e-01</td>\n",
              "      <td>7.711848e-01</td>\n",
              "      <td>5.664411e-01</td>\n",
              "      <td>1.022235e+00</td>\n",
              "      <td>7.238145e-01</td>\n",
              "      <td>4.422851e-01</td>\n",
              "      <td>4.732522e-01</td>\n",
              "      <td>9.004623e-01</td>\n",
              "      <td>8.000054e-01</td>\n",
              "      <td>6.362812e-01</td>\n",
              "      <td>7.017729e-01</td>\n",
              "      <td>2.317744e-01</td>\n",
              "      <td>6.984227e-01</td>\n",
              "      <td>-5.951066e-02</td>\n",
              "      <td>0.176289</td>\n",
              "    </tr>\n",
              "    <tr>\n",
              "      <th>max</th>\n",
              "      <td>2.032803e+00</td>\n",
              "      <td>2.749893e+00</td>\n",
              "      <td>2.553764e+00</td>\n",
              "      <td>2.328659e+00</td>\n",
              "      <td>2.523841e+00</td>\n",
              "      <td>1.495241e+00</td>\n",
              "      <td>1.997126e+00</td>\n",
              "      <td>2.673788e+00</td>\n",
              "      <td>2.151261e+00</td>\n",
              "      <td>1.803858e+00</td>\n",
              "      <td>2.126159e+00</td>\n",
              "      <td>2.563050e+00</td>\n",
              "      <td>2.425166e+00</td>\n",
              "      <td>4.020386e+00</td>\n",
              "      <td>2.154058e+00</td>\n",
              "      <td>5.638863e+00</td>\n",
              "      <td>0.434583</td>\n",
              "    </tr>\n",
              "  </tbody>\n",
              "</table>\n",
              "</div>"
            ],
            "text/plain": [
              "              Close        Volume   reportedEPS  totalRevenue     netIncome  \\\n",
              "count  4.100000e+01  4.100000e+01  4.100000e+01  4.100000e+01  4.100000e+01   \n",
              "mean   1.191459e-16  1.787188e-16  1.841346e-16  1.191459e-16 -7.582011e-17   \n",
              "std    1.012423e+00  1.012423e+00  1.012423e+00  1.012423e+00  1.012423e+00   \n",
              "min   -1.023952e+00 -1.340174e+00 -1.201902e+00 -1.499267e+00 -1.259236e+00   \n",
              "25%   -8.528285e-01 -6.944534e-01 -8.031145e-01 -8.058479e-01 -7.975045e-01   \n",
              "50%   -5.287491e-01 -4.210759e-01 -3.740398e-01 -3.093524e-01 -4.044483e-01   \n",
              "75%    9.611945e-01  5.004558e-01  6.961229e-01  7.711848e-01  5.664411e-01   \n",
              "max    2.032803e+00  2.749893e+00  2.553764e+00  2.328659e+00  2.523841e+00   \n",
              "\n",
              "          Dividends           GDP  Fed_Funds_Rate           CPI  \\\n",
              "count  4.100000e+01  4.100000e+01    4.100000e+01  4.100000e+01   \n",
              "mean   2.707861e-17  2.512895e-15    8.665155e-17 -7.582011e-16   \n",
              "std    1.012423e+00  1.012423e+00    1.012423e+00  1.012423e+00   \n",
              "min   -1.604624e+00 -1.867630e+00   -7.782726e-01 -1.127273e+00   \n",
              "25%   -8.106609e-01 -8.376534e-01   -7.564379e-01 -8.191735e-01   \n",
              "50%    1.353499e-01 -6.446415e-02   -5.228070e-01 -2.858227e-01   \n",
              "75%    1.022235e+00  7.238145e-01    4.422851e-01  4.732522e-01   \n",
              "max    1.495241e+00  1.997126e+00    2.673788e+00  2.151261e+00   \n",
              "\n",
              "       Dividend_Yield  Dividend_payout      PE_Ratio  \\\n",
              "count    4.100000e+01     4.100000e+01  4.100000e+01   \n",
              "mean    -2.166289e-16    -5.632351e-16  6.769653e-18   \n",
              "std      1.012423e+00     1.012423e+00  1.012423e+00   \n",
              "min     -1.394839e+00    -1.548625e+00 -1.548056e+00   \n",
              "25%     -1.096323e+00    -8.401471e-01 -6.826924e-01   \n",
              "50%      3.095028e-01    -2.388815e-01 -1.718884e-01   \n",
              "75%      9.004623e-01     8.000054e-01  6.362812e-01   \n",
              "max      1.803858e+00     2.126159e+00  2.563050e+00   \n",
              "\n",
              "       relative_close_change_from_the_last_quarter  \\\n",
              "count                                 4.100000e+01   \n",
              "mean                                  7.852797e-17   \n",
              "std                                   1.012423e+00   \n",
              "min                                  -2.493307e+00   \n",
              "25%                                  -5.911816e-01   \n",
              "50%                                   8.273180e-02   \n",
              "75%                                   7.017729e-01   \n",
              "max                                   2.425166e+00   \n",
              "\n",
              "       relative_volume_change_from_the_last_quarter  \\\n",
              "count                                  4.100000e+01   \n",
              "mean                                   1.624717e-17   \n",
              "std                                    1.012423e+00   \n",
              "min                                   -1.327643e+00   \n",
              "25%                                   -6.034664e-01   \n",
              "50%                                   -2.003377e-01   \n",
              "75%                                    2.317744e-01   \n",
              "max                                    4.020386e+00   \n",
              "\n",
              "       relative_gdp_change_from_the_last_quarter  \\\n",
              "count                               4.100000e+01   \n",
              "mean                               -5.415722e-18   \n",
              "std                                 1.012423e+00   \n",
              "min                                -1.962583e+00   \n",
              "25%                                -1.168641e+00   \n",
              "50%                                 2.728127e-01   \n",
              "75%                                 6.984227e-01   \n",
              "max                                 2.154058e+00   \n",
              "\n",
              "       relative_interest_change_from_the_last_quarter  \\\n",
              "count                                    4.100000e+01   \n",
              "mean                                     8.123583e-18   \n",
              "std                                      1.012423e+00   \n",
              "min                                     -1.367072e+00   \n",
              "25%                                     -3.225066e-01   \n",
              "50%                                     -2.012214e-01   \n",
              "75%                                     -5.951066e-02   \n",
              "max                                      5.638863e+00   \n",
              "\n",
              "       relative_close_change_for_next_quarter  \n",
              "count                               41.000000  \n",
              "mean                                 0.064795  \n",
              "std                                  0.153084  \n",
              "min                                 -0.301231  \n",
              "25%                                 -0.043278  \n",
              "50%                                  0.070129  \n",
              "75%                                  0.176289  \n",
              "max                                  0.434583  "
            ]
          },
          "execution_count": 111,
          "metadata": {},
          "output_type": "execute_result"
        }
      ],
      "source": [
        "apple_df.describe()"
      ]
    },
    {
      "cell_type": "markdown",
      "metadata": {},
      "source": [
        "---\n",
        "We can finally move on to the model building phase. However, we have to keep in mind that stock market data is highly volatile and unpredictable due to the presence of many factors that can influence the stock prices and can't be captured by the models - like market sentiment and many other factors related to environmental, micro, and macroeconomic factors that we have not taken into account.   \n",
        "\n",
        "We initiated this project with quite optimism but quickly learned that the stock market is not as predictable as we thought and in pratice, Machine Learning models are not very effective in predicting stock prices. However, for the sake of learning and practice, we will proceed with the applying some models to the data and evaluate their performance.  \n",
        "\n",
        "Now, that we have outlined the potential challenges, we have to make a naive benchmark model to compare the performance of the other models. The naive benchmark is often based on the random walk model."
      ]
    },
    {
      "cell_type": "markdown",
      "metadata": {},
      "source": [
        "A Random Walk model assumes that the next value of a time series is the current value plus a random fluctuation. It's a simple yet effective baseline model for financial time series like stock prices.\n",
        "\n",
        "For a stock price series $P_t$:\n",
        "\n",
        "$$P_{t+1} = P_t + \\epsilon_t$$\n",
        "\n",
        "Where:\n",
        "* $P_{t+1}$ is the Next value in the series\n",
        "* $P_t$ is the Current value\n",
        "* $\\epsilon_t$ is the Random noise (assumed to follow a normal distribution with mean 0)\n",
        "\n",
        "For relative changes: \n",
        "\n",
        "$$\\Delta P_{t+1} = P_{t+1} - P_t = \\epsilon_t$$\n",
        "\n",
        "This means that The next price $P_{t+1}$ depends only on the current price $P_t$, making the process \"memoryless.\""
      ]
    },
    {
      "cell_type": "code",
      "execution_count": 112,
      "metadata": {},
      "outputs": [
        {
          "name": "stdout",
          "output_type": "stream",
          "text": [
            "Predictions: [ 0.71667436 -0.77319291  0.9565314   0.12842269  0.15213487  0.36406072\n",
            " -0.37865939 -1.26303846 -0.79927412 -0.22661067 -1.31487209  0.72638476\n",
            " -0.30871326  1.06959444 -0.51475288 -0.0278539   0.14520075 -0.52760177\n",
            "  0.18343497  0.9450409  -2.44933741  0.87840274 -0.19726335  0.35729431\n",
            "  1.58351584 -1.3723856   2.39063663  1.33527623  0.47651607 -1.01947026\n",
            "  0.31263868 -0.20261108  1.22377028 -0.62291293 -1.90557955 -0.44402254\n",
            " -0.87348996  1.26052569  0.65878225 -1.25818189  0.3747752 ]\n",
            "Actuals: [-0.04327826  0.21196476  0.08414936  0.0955831   0.12728758  0.00803665\n",
            " -0.12062503 -0.04569357  0.03543602 -0.1228553   0.18253143  0.0245024\n",
            "  0.24037303  0.00250592  0.07012908  0.09804049 -0.0085682   0.10329003\n",
            "  0.21949114 -0.3012315   0.20419672  0.04195842  0.13161885  0.31111306\n",
            " -0.13403712  0.43458255  0.26984651  0.14575602 -0.07943327  0.12124441\n",
            "  0.03314831  0.25491171 -0.01666952 -0.21699788  0.01082501 -0.05984084\n",
            "  0.26914495  0.17628871 -0.1173377   0.12452539 -0.10933363]\n",
            "RMSE: 1.03\n",
            "MAE: 0.83\n",
            "R2: -45.76\n",
            "Accuracy: 0.44\n"
          ]
        },
        {
          "name": "stderr",
          "output_type": "stream",
          "text": [
            "/opt/anaconda3/lib/python3.12/site-packages/sklearn/metrics/_regression.py:492: FutureWarning: 'squared' is deprecated in version 1.4 and will be removed in 1.6. To calculate the root mean squared error, use the function'root_mean_squared_error'.\n",
            "  warnings.warn(\n"
          ]
        }
      ],
      "source": [
        "import numpy as np\n",
        "np.random.seed(42)\n",
        "from sklearn.metrics import mean_squared_error, mean_absolute_error, r2_score\n",
        "\n",
        "# our model follows the following structure: prediction = current relative_close_change_from_the_last_quarter + random noise ~ N(0, 0.03)\n",
        "actuals = apple_df[\"relative_close_change_for_next_quarter\"].values\n",
        "predictions = apple_df[\"relative_close_change_from_the_last_quarter\"].values + np.random.normal(0, 0.03, len(actuals))\n",
        "\n",
        "\n",
        "# evaluate the model\n",
        "rmse = mean_squared_error(actuals, predictions, squared=False)\n",
        "mae = mean_absolute_error(actuals, predictions)\n",
        "r2 = r2_score(actuals, predictions)\n",
        "\n",
        "# Accuracy: if the actuals are positive and the predictions are positive,\n",
        "# or if the actuals are negative and the predictions are negative, then the prediction is correct.\n",
        "# Count the number of correct predictions\n",
        "correct_predictions = np.sum(np.sign(actuals) == np.sign(predictions))\n",
        "total_predictions = len(actuals)\n",
        "accuracy = correct_predictions / total_predictions\n",
        "\n",
        "# Print results\n",
        "print(f\"Predictions: {predictions}\")\n",
        "print(f\"Actuals: {actuals}\")\n",
        "print(f\"RMSE: {rmse:.2f}\")\n",
        "print(f\"MAE: {mae:.2f}\")\n",
        "print(f\"R2: {r2:.2f}\")\n",
        "print(f\"Accuracy: {accuracy:.2f}\")"
      ]
    },
    {
      "cell_type": "markdown",
      "metadata": {},
      "source": [
        "##### Interpreation of the results:\n",
        "\n",
        "__RMSE__: The RMSE value is 1.03. This value is the square root of the mean squared error. It measures the average of the squares of the errors or deviations. The lower the value, the better the model. In this case, the value is 1.03  \n",
        "\n",
        "__MAE__: The MAE value is 0.83. This value is the average of the absolute differences between the predicted values and the actual values. The lower the value, the better the model. In this case, the value is 0.83 - this is interpretable in our context and shows that our model is off by 83% on average - which is a lot.  \n",
        "\n",
        "__R2__: The R2 value is -45.76. This value measures the proportion of the variance in the dependent variable that is predictable from the independent variable(s). The higher the value, the better the model. In this case, the value shows that the model is not appropriate for the data.  \n",
        "\n",
        "__Accuracy__: The accuracy value is 0.44. This value measures the proportion of correct predictions. The higher the value, the better the model. In this case, the value is 0.44 - which is really poor\n",
        "\n",
        "These results serve as a naive baseline for the ML models that we will build.\n"
      ]
    },
    {
      "cell_type": "markdown",
      "metadata": {},
      "source": [
        "### Lets Start by building a Linear Regression Model"
      ]
    },
    {
      "cell_type": "markdown",
      "metadata": {},
      "source": [
        "We will learn the model parameters using the training data and then use the model to predict the relative stock return of the company for the next quarter lying in the test data **iteratively**. We will then compare the predicted stock return with the actual stock return to evaluate the model's performance. \n",
        "\n",
        "We will do this iteratively for all the the quarters in the test data to get a sense of the model's performance. Also, If the model's prediction for the relative return is positive and also the actual return is positive, then we will consider the model to be successful (1) - otherwise unsuccessful(0) - and caluclate the accuracy of the model. Apart from Accuracy, we will also calculate the usual evaluation metrics for linear regression models, like Mean Squared Error, Mean Absolute Error, and R^2 Score.\n",
        "\n",
        "Our target is `relative_close_change_for_next_quarter`. Our set of features are all other columns, like close_price, volume, EPS, lagged values for some columns, and also the economic data!"
      ]
    },
    {
      "cell_type": "code",
      "execution_count": 113,
      "metadata": {},
      "outputs": [
        {
          "name": "stdout",
          "output_type": "stream",
          "text": [
            "Average RMSE: 0.12\n",
            "Average MAE: 0.26\n",
            "True values: [-0.0166695195797487, -0.2169978767378927, 0.0108250125389477, -0.0598408426561555, 0.269144948756866, 0.1762887107349888, -0.1173377035809735, 0.124525385371081, -0.1093336268904675]\n",
            "Predicted values: [-0.023664570623437575, 0.5453657192876032, 0.15162467014054815, 0.1649789116687749, 0.04074394327576206, -0.392357962491768, 0.12344626706346389, 0.09080597196655527, 0.003328979886950717]\n",
            "R2 Score: -4.62\n",
            "Accuracy: 0.44\n"
          ]
        }
      ],
      "source": [
        "from sklearn.linear_model import LinearRegression\n",
        "\n",
        "# Initialize the model\n",
        "model = LinearRegression()\n",
        "\n",
        "# Initialize lists to store metrics\n",
        "ytrues, ypredicts, rmse, mae = [], [], [], []\n",
        "\n",
        "# Separate training and testing sets. We will consider the data from 2014 to 2021 as the training set and the data from 2022 to 2023 as the testing set.\n",
        "training_set = apple_df[apple_df.index < \"2021-12-31\"]\n",
        "testing_set = apple_df[apple_df.index >= \"2021-12-31\"]\n",
        "\n",
        "# Function to train, predict, and evaluate\n",
        "def train_and_evaluate(model, train_data, test_data):\n",
        "\n",
        "    X_train = train_data.drop(columns=[\"relative_close_change_for_next_quarter\"])\n",
        "    y_train = train_data[\"relative_close_change_for_next_quarter\"]\n",
        "    X_test = test_data.drop(columns=[\"relative_close_change_for_next_quarter\"])\n",
        "    y_test = test_data[\"relative_close_change_for_next_quarter\"]\n",
        "    \n",
        "    # Train the model\n",
        "    model.fit(X_train, y_train)\n",
        "    \n",
        "    # Predict for the first quarter in the test set\n",
        "    y_pred = model.predict(X_test.iloc[[0]])\n",
        "    y_true = y_test.iloc[[0]] # Get the true value for the first quarter in the test set\n",
        "    ypredicts.append(y_pred[0]) # Store the predicted value for accuracy calculation and r2 score\n",
        "    ytrues.append(y_true.values[0]) # Store the true value for accuracy calculation and r2 score\n",
        "    \n",
        "    # Calculate metrics\n",
        "    return (\n",
        "        mean_squared_error(y_true, y_pred),\n",
        "        mean_absolute_error(y_true, y_pred),\n",
        "    )\n",
        "\n",
        "# Rolling training and evaluation\n",
        "while not testing_set.empty:\n",
        "    # Train and evaluate for the current step\n",
        "    rmse_val, mae_val = train_and_evaluate(model, training_set, testing_set)\n",
        "    \n",
        "    # Store metrics\n",
        "    rmse.append(rmse_val)\n",
        "    mae.append(mae_val)\n",
        "    \n",
        "    # Update training and testing sets\n",
        "    training_set = pd.concat([training_set, testing_set.head(1)])\n",
        "    testing_set = testing_set.drop(testing_set.index[0])\n",
        "\n",
        "accuracy = np.sum(np.sign(ytrues) == np.sign(ypredicts)) / len(ytrues)\n",
        "\n",
        "# Display average metrics\n",
        "print(f\"Average RMSE: {round(sum(rmse) / len(rmse), 2)}\")\n",
        "print(f\"Average MAE: {round(sum(mae) / len(mae), 2)}\")\n",
        "print(\"True values:\", ytrues)\n",
        "print(\"Predicted values:\", ypredicts)\n",
        "print(f\"R2 Score: {r2_score(ytrues, ypredicts):.2f}\")\n",
        "print(f\"Accuracy: {round(accuracy, 2)}\")"
      ]
    },
    {
      "cell_type": "markdown",
      "metadata": {},
      "source": [
        "OOOPPSSS!!! It turns out that the model is not performing well at all, with average MAE of 26% (our estimates off by 26%) and performs worse than the naive benchmark model. However, we have to keep in mind the assumptions to use Linear Regression. The assumptions are:\n",
        "\n",
        "1. Linearity: The relationship between the independent and dependent variables should be linear.\n",
        "2. Independence: The residuals (errors) should be independent of each other.\n",
        "3. Homoscedasticity: The residuals should have constant variance at every level of the independent variables.\n",
        "4. Normality: The residuals should be normally distributed.\n",
        "5. Assumes that there is no high multicollinearity\n",
        "\n",
        "Are all these assumptions met? Lets check them. Certainly the first does. Lets check the others."
      ]
    },
    {
      "cell_type": "code",
      "execution_count": 114,
      "metadata": {},
      "outputs": [
        {
          "data": {
            "image/png": "[encoded data removed]",
            "text/plain": [
              "<Figure size 1200x600 with 1 Axes>"
            ]
          },
          "metadata": {},
          "output_type": "display_data"
        }
      ],
      "source": [
        "import matplotlib.pyplot as plt\n",
        "import seaborn as sns\n",
        "sns.set_style(\"whitegrid\")\n",
        "# Independence: The residuals (errors) should be independent of each other.\n",
        "# Lets test the independence of the residuals\n",
        "\n",
        "residuals = np.array(ytrues) - np.array(ypredicts)\n",
        "\n",
        "plt.figure(figsize=(12, 6))\n",
        "# using sns to plot the residuals against the index (quarters)\n",
        "sns.scatterplot(x=apple_df.index[-len(residuals):], y=residuals, color = \"darkred\")\n",
        "plt.title(\"Residuals Plot\")\n",
        "plt.xlabel(\"Quarter\")\n",
        "plt.ylabel(\"Residuals\")\n",
        "plt.xticks(rotation=45)\n",
        "plt.show()"
      ]
    },
    {
      "cell_type": "markdown",
      "metadata": {},
      "source": [
        "The scatterplot for the residuals seems to show to inherent pattern, confirming that the residuals are independent. However, this observation might be wrong because we have very few data points (quarters). Lets make use of Durbin-Watson Test. This test detects the presence of autocorrelation in residuals. Values close to 2 indicate no autocorrelation."
      ]
    },
    {
      "cell_type": "code",
      "execution_count": 115,
      "metadata": {},
      "outputs": [
        {
          "name": "stdout",
          "output_type": "stream",
          "text": [
            "Durbin-Watson Statistic: 1.873106698210021\n"
          ]
        }
      ],
      "source": [
        "from statsmodels.stats.stattools import durbin_watson\n",
        "dw_stat = durbin_watson(residuals)\n",
        "print(f\"Durbin-Watson Statistic: {dw_stat}\")\n"
      ]
    },
    {
      "cell_type": "markdown",
      "metadata": {},
      "source": [
        "This is inline with our observation from the plot that residuals are independent. Now, we will move on to test the Homoscedasticity, which requires that the residuals should have constant variance at every level of the independent variables.\n",
        "\n",
        "We will plot a Residuals vs Predicted Values Plot. It plots the residuals on the y-axis and the predicted values on the x-axis. A random scatter without a funnel-shaped or patterned spread indicates homoscedasticity."
      ]
    },
    {
      "cell_type": "code",
      "execution_count": 116,
      "metadata": {},
      "outputs": [
        {
          "data": {
            "image/png": "[encoded data removed]",
            "text/plain": [
              "<Figure size 1200x600 with 1 Axes>"
            ]
          },
          "metadata": {},
          "output_type": "display_data"
        }
      ],
      "source": [
        "# We will plot a Residuals vs Predicted Values Plot. It plots the residuals on the y-axis and the predicted values on the x-axis.\n",
        "\n",
        "plt.figure(figsize=(12, 6))\n",
        "sns.scatterplot(x=ypredicts, y=residuals, color = \"darkred\")\n",
        "plt.title(\"Residuals vs Predicted Values Plot\")\n",
        "plt.xlabel(\"Predicted Values\")\n",
        "plt.ylabel(\"Residuals\")\n",
        "plt.axhline(y=0, color='blue', linestyle='--')\n",
        "plt.show()"
      ]
    },
    {
      "cell_type": "markdown",
      "metadata": {},
      "source": [
        "Again, we have a problem of interpretability due to very few data points but the plot it seems that there is not Homoscedasticity!\n",
        "\n",
        "Next step: Let's see the normality of the residuals using a qqplot. Disclaimer: there will be interpreatibility issues due to less data points!"
      ]
    },
    {
      "cell_type": "code",
      "execution_count": 117,
      "metadata": {},
      "outputs": [
        {
          "data": {
            "image/png": "[encoded data removed]",
            "text/plain": [
              "<Figure size 640x480 with 1 Axes>"
            ]
          },
          "metadata": {},
          "output_type": "display_data"
        }
      ],
      "source": [
        "import statsmodels.api as sm\n",
        "sm.qqplot(residuals, line='45')\n",
        "plt.show()"
      ]
    },
    {
      "cell_type": "markdown",
      "metadata": {},
      "source": [
        "From the QQ plot, we can see that the residuals are not normally distributed. But this may be due to the small sample size.\n",
        "\n",
        "We will now focus on the 5th assumption: No high multicollinearity among independent variables. We will detect this using correlation matrix and plotting it as a heatmap!"
      ]
    },
    {
      "cell_type": "code",
      "execution_count": 118,
      "metadata": {},
      "outputs": [
        {
          "data": {
            "image/png": "[encoded data removed]",
            "text/plain": [
              "<Figure size 1200x600 with 2 Axes>"
            ]
          },
          "metadata": {},
          "output_type": "display_data"
        }
      ],
      "source": [
        "X = apple_df.drop(columns=[\"relative_close_change_for_next_quarter\"])\n",
        "correlation_matrix = X.corr()\n",
        "plt.figure(figsize=(12, 6))\n",
        "sns.heatmap(correlation_matrix, annot=True, fmt=\".2f\")\n",
        "plt.title(\"Correlation Matrix\")\n",
        "plt.show()"
      ]
    },
    {
      "cell_type": "markdown",
      "metadata": {},
      "source": [
        "The heatmap shows that some variables/predictors/features are overly correlated. This can lead to multicollinearity which can affect the model's performance. We will not delete them immediately but rather perform regularization (a bit later).\n",
        "\n",
        "For now, lets plot the coefficients of our model for each predictor variable and try to make sense of it!"
      ]
    },
    {
      "cell_type": "code",
      "execution_count": 119,
      "metadata": {},
      "outputs": [
        {
          "data": {
            "image/png": "[encoded data removed]",
            "text/plain": [
              "<Figure size 1200x600 with 1 Axes>"
            ]
          },
          "metadata": {},
          "output_type": "display_data"
        }
      ],
      "source": [
        "# lets plot the models coefficients\n",
        "coefficients = model.coef_\n",
        "features = training_set.drop(columns=[\"relative_close_change_for_next_quarter\"]).columns\n",
        "\n",
        "sns.set_style(\"white\")\n",
        "plt.figure(figsize=(12, 6))\n",
        "sns.barplot(x=coefficients, y=features, color = \"darkred\")\n",
        "plt.title(\"Feature Coefficients\")\n",
        "plt.xlabel(\"Coefficient\")\n",
        "plt.ylabel(\"Feature\")\n",
        "plt.show()"
      ]
    },
    {
      "cell_type": "markdown",
      "metadata": {},
      "source": [
        "The results are astonishingly disturbing. Our simply linear regression model is unable to detect the relation between the variables correctly - and rather, in the race to minimise the MSE, giving us cofficients which contradict reality. **For example, Close price for last quarter, total Revenue, GDP, and stock Volume must positively affect the predictions**. But this is not captured by our model and thus we, as an investor, can not rely on this model.\n",
        "\n",
        "---"
      ]
    },
    {
      "cell_type": "markdown",
      "metadata": {},
      "source": [
        "Lets give Linear Regression another try. So far, we have not performed feature selection and neither did we perform any regularization for the Linear Regression model. Lets perform both and see if the model improves. Our approach will be not to perform feature selection using wrapper or filter methods, for we already have a handful of features and each of them are important.   \n",
        "\n",
        "However, We will use Elastic Regression, which incorporates both Lasso (Least Absolute Shrinkage and Selection Operator) regression for feature selection and Ridge Regression for regularization - combined as Elastic Net Regression."
      ]
    },
    {
      "cell_type": "code",
      "execution_count": 139,
      "metadata": {},
      "outputs": [
        {
          "name": "stdout",
          "output_type": "stream",
          "text": [
            "Average RMSE: 0.04\n",
            "Average MAE: 0.16\n",
            "True values: [-0.0166695195797487, -0.2169978767378927, 0.0108250125389477, -0.0598408426561555, 0.269144948756866, 0.1762887107349888, -0.1173377035809735, 0.124525385371081, -0.1093336268904675]\n",
            "Predicted values: [0.06448169172074537, 0.14084513509592625, -0.1390670149428927, 0.021829317271786004, 0.037813067076507834, 0.023625082214489876, 0.10804245816465506, 0.08190290515093891, 0.04694203321263472]\n",
            "R2 Score: -0.63\n",
            "Accuracy: 0.33\n"
          ]
        }
      ],
      "source": [
        "from sklearn.linear_model import ElasticNet\n",
        "\n",
        "# Initialize the model\n",
        "model = ElasticNet(alpha=0.03, l1_ratio=0.5)\n",
        "# alpha (set at .1) is the regularization strength and l1_ratio is the ratio of L1 regularization to L2 regularization.\n",
        "\n",
        "# Initialize lists to store metrics\n",
        "ytrues, ypredicts, rmse, mae = [], [], [], []\n",
        "\n",
        "# Separate training and testing sets. We will consider the data from 2014 to 2021 as the training set and the data from 2022 to 2023 as the testing set.\n",
        "training_set = apple_df[apple_df.index < \"2021-12-31\"]\n",
        "testing_set = apple_df[apple_df.index >= \"2021-12-31\"]\n",
        "\n",
        "# Function to train, predict, and evaluate\n",
        "def train_and_evaluate(model, train_data, test_data):\n",
        "\n",
        "    X_train = train_data.drop(columns=[\"relative_close_change_for_next_quarter\"])\n",
        "    y_train = train_data[\"relative_close_change_for_next_quarter\"]\n",
        "    X_test = test_data.drop(columns=[\"relative_close_change_for_next_quarter\"])\n",
        "    y_test = test_data[\"relative_close_change_for_next_quarter\"]\n",
        "    \n",
        "    # Train the model\n",
        "    model.fit(X_train, y_train)\n",
        "    \n",
        "    # Predict for the first quarter in the test set\n",
        "    y_pred = model.predict(X_test.iloc[[0]])\n",
        "    y_true = y_test.iloc[[0]] # Get the true value for the first quarter in the test set\n",
        "    ypredicts.append(y_pred[0]) # Store the predicted value for accuracy calculation and r2 score\n",
        "    ytrues.append(y_true.values[0]) # Store the true value for accuracy calculation and r2 score\n",
        "    \n",
        "    # Calculate metrics\n",
        "    return (\n",
        "        mean_squared_error(y_true, y_pred),\n",
        "        mean_absolute_error(y_true, y_pred),\n",
        "    )\n",
        "\n",
        "# Rolling training and evaluation\n",
        "while not testing_set.empty:\n",
        "    # Train and evaluate for the current step\n",
        "    rmse_val, mae_val = train_and_evaluate(model, training_set, testing_set)\n",
        "    \n",
        "    # Store metrics\n",
        "    rmse.append(rmse_val)\n",
        "    mae.append(mae_val)\n",
        "    \n",
        "    # Update training and testing sets\n",
        "    training_set = pd.concat([training_set, testing_set.head(1)])\n",
        "    testing_set = testing_set.drop(testing_set.index[0])\n",
        "\n",
        "accuracy = np.sum(np.sign(ytrues) == np.sign(ypredicts)) / len(ytrues)\n",
        "\n",
        "# Display average metrics\n",
        "print(f\"Average RMSE: {round(sum(rmse) / len(rmse), 2)}\")\n",
        "print(f\"Average MAE: {round(sum(mae) / len(mae), 2)}\")\n",
        "print(\"True values:\", ytrues)\n",
        "print(\"Predicted values:\", ypredicts)\n",
        "print(f\"R2 Score: {r2_score(ytrues, ypredicts):.2f}\")\n",
        "print(f\"Accuracy: {round(accuracy, 2)}\")"
      ]
    },
    {
      "cell_type": "markdown",
      "metadata": {},
      "source": [
        "Clearly, the MAE has decreased by the Accuracy is even worse now and we are below the benchmark level of the naive random walk model!"
      ]
    },
    {
      "cell_type": "code",
      "execution_count": 143,
      "metadata": {},
      "outputs": [
        {
          "data": {
            "image/png": "[encoded data removed]",
            "text/plain": [
              "<Figure size 1200x600 with 1 Axes>"
            ]
          },
          "metadata": {},
          "output_type": "display_data"
        }
      ],
      "source": [
        "# lets plot the models coefficients\n",
        "coefficients = model.coef_\n",
        "features = training_set.drop(columns=[\"relative_close_change_for_next_quarter\"]).columns\n",
        "\n",
        "plt.figure(figsize=(12, 6))\n",
        "sns.barplot(x=coefficients, y=features, color = \"darkred\")\n",
        "plt.title(\"Feature Coefficients\")\n",
        "plt.xlabel(\"Coefficient\")\n",
        "plt.ylabel(\"Feature\")\n",
        "plt.show()"
      ]
    },
    {
      "cell_type": "markdown",
      "metadata": {},
      "source": [
        "The results are again not so welcoming. Our regularised linear regression model is unable to detect the relation between the variables correctly - and rather, in the race to minimise the MSE zeroing out some of the most crucial features.\n",
        "\n",
        "This model is not well adapted to our problem because it can't capture the trends and time series data well!\n",
        "\n",
        "---\n",
        "\n",
        "### Logistic Regression"
      ]
    },
    {
      "cell_type": "code",
      "execution_count": 275,
      "metadata": {},
      "outputs": [],
      "source": [
        "apple_df[\"Should_buy_next\"] = apple_df[\"relative_change_for_next_quarter\"].apply(lambda x: 1 if x > 0 else 0)"
      ]
    },
    {
      "cell_type": "code",
      "execution_count": 276,
      "metadata": {},
      "outputs": [
        {
          "name": "stdout",
          "output_type": "stream",
          "text": [
            "Accuracy: 0.625\n",
            "              precision    recall  f1-score   support\n",
            "\n",
            "           0       0.00      0.00      0.00         2\n",
            "           1       0.71      0.83      0.77         6\n",
            "\n",
            "    accuracy                           0.62         8\n",
            "   macro avg       0.36      0.42      0.38         8\n",
            "weighted avg       0.54      0.62      0.58         8\n",
            "\n"
          ]
        },
        {
          "data": {
            "image/png": "[encoded data removed]",
            "text/plain": [
              "<Figure size 640x480 with 1 Axes>"
            ]
          },
          "metadata": {},
          "output_type": "display_data"
        },
        {
          "data": {
            "image/png": "[encoded data removed]",
            "text/plain": [
              "<Figure size 640x480 with 2 Axes>"
            ]
          },
          "metadata": {},
          "output_type": "display_data"
        }
      ],
      "source": [
        "# We are interested in predicting 'Should_buy_next', which is 1 if one should buy the stock for next quarter because it will increase in value or 0 if it will decrease using the 'Close','Volume','reportedEPS',\n",
        "# 'totalRevenue','netIncome','Dividends','GDP','Fed_Funds_Rate','CPI','Dividend_Yield','Dividend_payout', and 'PE_Ratio' for the current \n",
        "# quarter and 'relative_change_from_the_last_quarter','last_quarter_close','last_quarter_Volume','last_quarter_GDP','last_quarter_Fed_Funds_Rate'\n",
        "# for the last quarter.\n",
        "\n",
        "# Our first use will be Logistic Regression Model. \n",
        "\n",
        "# List of features:\n",
        "\n",
        "features = ['Close', 'Volume', 'reportedEPS', 'totalRevenue', 'netIncome', 'Dividends', 'GDP', 'Fed_Funds_Rate', 'CPI', 'Dividend_Yield', 'Dividend_payout', 'PE_Ratio', 'relative_change_from_the_last_quarter', 'last_quarter_close', 'last_quarter_Volume', 'last_quarter_GDP', 'last_quarter_Fed_Funds_Rate']\n",
        "target = 'Should_buy_next'\n",
        "\n",
        "X = apple_df[features]\n",
        "y = apple_df[target]\n",
        "\n",
        "from sklearn.model_selection import train_test_split\n",
        "X_train, X_test, y_train, y_test = train_test_split(X, y, test_size = 0.2, random_state = 42)\n",
        "\n",
        "from sklearn.linear_model import LogisticRegression\n",
        "\n",
        "model = LogisticRegression()\n",
        "model.fit(X_train, y_train)\n",
        "\n",
        "y_pred = model.predict(X_test)\n",
        "\n",
        "from sklearn.metrics import accuracy_score, classification_report\n",
        "\n",
        "accuracy = accuracy_score(y_test, y_pred)\n",
        "\n",
        "print(f\"Accuracy: {accuracy}\")\n",
        "\n",
        "print(classification_report(y_test, y_pred))\n",
        "\n",
        "# Let's plot the coefficients of the model:\n",
        "\n",
        "coefficients = model.coef_[0]\n",
        "features = X.columns\n",
        "\n",
        "plt.figure()\n",
        "sns.set_style(\"white\")\n",
        "\n",
        "sns.barplot(x = coefficients, y = features, color = \"darkred\")\n",
        "plt.xlabel(\"Coefficients\")\n",
        "plt.ylabel(\"Features\")\n",
        "plt.title(\"Coefficients of the Model\")\n",
        "plt.show()\n",
        "\n",
        "# Let's plot the confusion matrix:\n",
        "\n",
        "from sklearn.metrics import confusion_matrix\n",
        "\n",
        "cm = confusion_matrix(y_test, y_pred)\n",
        "\n",
        "plt.figure()\n",
        "sns.set_style(\"white\")\n",
        "sns.heatmap(cm, annot = True, cmap = \"Reds\", fmt = \"d\")\n",
        "plt.xlabel(\"Predicted Values\")\n",
        "plt.ylabel(\"Actual Values\")\n",
        "plt.title(\"Confusion Matrix\")\n",
        "plt.show()\n"
      ]
    },
    {
      "cell_type": "markdown",
      "metadata": {},
      "source": [
        "# Arima"
      ]
    },
    {
      "cell_type": "code",
      "execution_count": null,
      "metadata": {},
      "outputs": [
        {
          "data": {
            "text/plain": [
              "<Figure size 1000x600 with 0 Axes>"
            ]
          },
          "metadata": {},
          "output_type": "display_data"
        },
        {
          "data": {
            "image/png": "[encoded data removed]",
            "text/plain": [
              "<Figure size 640x480 with 1 Axes>"
            ]
          },
          "metadata": {},
          "output_type": "display_data"
        },
        {
          "data": {
            "text/plain": [
              "<Figure size 1000x600 with 0 Axes>"
            ]
          },
          "metadata": {},
          "output_type": "display_data"
        },
        {
          "data": {
            "image/png": "[encoded data removed]",
            "text/plain": [
              "<Figure size 640x480 with 1 Axes>"
            ]
          },
          "metadata": {},
          "output_type": "display_data"
        }
      ],
      "source": [
        "from statsmodels.graphics.tsaplots import plot_acf, plot_pacf\n",
        "import matplotlib.pyplot as plt\n",
        "\n",
        "# Assuming `apple_df['close']` is your target variable\n",
        "target_variable = apple_df['Close']\n",
        "\n",
        "# Plot ACF\n",
        "plt.figure(figsize=(10, 6))\n",
        "plot_acf(target_variable, lags=10, title='Autocorrelation Function for Close Prices')\n",
        "plt.show()\n",
        "\n",
        "# Plot PACF\n",
        "plt.figure(figsize=(10, 6))\n",
        "plot_pacf(target_variable, lags=10, title='Partial Autocorrelation Function for Close Prices')\n",
        "plt.show()\n"
      ]
    },
    {
      "cell_type": "code",
      "execution_count": null,
      "metadata": {},
      "outputs": [
        {
          "data": {
            "image/png": "[encoded data removed]",
            "text/plain": [
              "<Figure size 640x480 with 1 Axes>"
            ]
          },
          "metadata": {},
          "output_type": "display_data"
        }
      ],
      "source": [
        "import matplotlib.pyplot as plt\n",
        "import seaborn as sns\n",
        "# plot the relative_change across time:\n",
        "\n",
        "plt.figure()\n",
        "sns.set_style(\"white\")\n",
        "# Change 'lwd' to 'linewidth'\n",
        "sns.lineplot(data = apple_df, x = apple_df.index, y = \"relative_change_close\", linewidth = 2, color = \"darkred\")\n",
        "plt.show()"
      ]
    },
    {
      "cell_type": "markdown",
      "metadata": {},
      "source": [
        "# LSTM"
      ]
    }
  ],
  "metadata": {
    "colab": {
      "provenance": []
    },
    "kernelspec": {
      "display_name": "base",
      "language": "python",
      "name": "python3"
    },
    "language_info": {
      "codemirror_mode": {
        "name": "ipython",
        "version": 3
      },
      "file_extension": ".py",
      "mimetype": "text/x-python",
      "name": "python",
      "nbconvert_exporter": "python",
      "pygments_lexer": "ipython3",
      "version": "3.12.7"
    }
  },
  "nbformat": 4,
  "nbformat_minor": 0
}
